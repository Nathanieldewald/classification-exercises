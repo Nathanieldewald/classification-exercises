{
 "cells": [
  {
   "cell_type": "markdown",
   "source": [
    "# <span style=\"color:green\">Create a new notebook, random_forests, and work with titanic data to do the following:</span>\n",
    "\n",
    "\n",
    "# <span style=\"color:green\">Fit the Random Forest classifier to your training sample and transform (i.e. make predictions on the training sample) setting the random_state accordingly and setting min_samples_leaf = 1 and max_depth = 10.</span>\n",
    "\n",
    "<span style=\"color:green\">Evaluate your results using the model score, confusion matrix, and classification report.</span>\n",
    "\n",
    "<span style=\"color:blue\">Print and clearly label the following: Accuracy, true positive rate, false positive rate, true negative rate, false negative rate, precision, recall, f1-score, and support.</span>\n",
    "\n",
    "<span style=\"color:blue\">Run through steps increasing your min_samples_leaf and decreasing your max_depth.</span>\n",
    "\n",
    "<span style=\"color:blue\">What are the differences in the evaluation metrics? Which performs better on your in-sample data? Why?</span>\n",
    "\n",
    "<span style=\"color:blue\">After making a few models, which one has the best performance (or closest metrics) on both train and validate?</span>\n",
    "\n",
    "\n",
    "\n"
   ],
   "metadata": {
    "collapsed": false
   }
  },
  {
   "cell_type": "code",
   "execution_count": 1,
   "outputs": [],
   "source": [
    "import pandas as pd\n",
    "import numpy as np\n",
    "from sklearn.model_selection import train_test_split\n",
    "import acquire"
   ],
   "metadata": {
    "collapsed": false,
    "ExecuteTime": {
     "start_time": "2023-04-19T16:04:37.330786Z",
     "end_time": "2023-04-19T16:04:37.375916Z"
    }
   }
  },
  {
   "cell_type": "code",
   "execution_count": 2,
   "outputs": [
    {
     "name": "stdout",
     "output_type": "stream",
     "text": [
      "csv file found and loaded\n"
     ]
    }
   ],
   "source": [
    "df = acquire.get_titanic_data()"
   ],
   "metadata": {
    "collapsed": false,
    "ExecuteTime": {
     "start_time": "2023-04-19T16:04:46.189091Z",
     "end_time": "2023-04-19T16:04:46.198601Z"
    }
   }
  },
  {
   "cell_type": "code",
   "execution_count": 3,
   "outputs": [],
   "source": [
    "df.drop(columns=['deck', 'embarked', 'passenger_id', 'class'], inplace=True)\n",
    "df.age.fillna(df.age.mean(), inplace=True)\n",
    "df.embark_town.fillna('Southampton', inplace=True)\n",
    "df.pclass = df.pclass.astype('object')\n",
    "df.sibsp = df.sibsp.astype('object')\n",
    "df.parch = df.parch.astype('object')\n",
    "df.alone = df.alone.astype('object')\n",
    "Y = df.survived\n",
    "X = df.drop(columns='survived')\n"
   ],
   "metadata": {
    "collapsed": false,
    "ExecuteTime": {
     "start_time": "2023-04-19T16:06:58.905064Z",
     "end_time": "2023-04-19T16:06:58.915846Z"
    }
   }
  },
  {
   "cell_type": "markdown",
   "source": [
    "# <span style=\"color:blue\">Survived Rate</span>"
   ],
   "metadata": {
    "collapsed": false
   }
  },
  {
   "cell_type": "code",
   "execution_count": 4,
   "outputs": [
    {
     "data": {
      "text/plain": "0    0.616162\n1    0.383838\nName: survived, dtype: float64"
     },
     "execution_count": 4,
     "metadata": {},
     "output_type": "execute_result"
    }
   ],
   "source": [
    "df.survived.value_counts()\n",
    "df.survived.mean()"
   ],
   "metadata": {
    "collapsed": false,
    "ExecuteTime": {
     "start_time": "2023-04-19T16:07:18.406994Z",
     "end_time": "2023-04-19T16:07:18.409832Z"
    }
   }
  },
  {
   "cell_type": "markdown",
   "source": [
    "# <span style=\"color:green\">Baseline Prediction and Accuracy</span>"
   ],
   "metadata": {
    "collapsed": false
   }
  },
  {
   "cell_type": "code",
   "execution_count": 5,
   "outputs": [
    {
     "name": "stdout",
     "output_type": "stream",
     "text": [
      "Baseline Prediction: 0\n",
      "Baseline Accuracy: 61.62%\n"
     ]
    }
   ],
   "source": [
    "df.survived.value_counts()\n",
    "baseline = df.survived.value_counts().max() / df.survived.value_counts().sum()\n",
    "print(f'Baseline Prediction: {df.survived.value_counts().idxmax()}')\n",
    "print(f'Baseline Accuracy: {baseline:.2%}')"
   ],
   "metadata": {
    "collapsed": false,
    "ExecuteTime": {
     "start_time": "2023-04-19T16:07:59.208693Z",
     "end_time": "2023-04-19T16:07:59.221932Z"
    }
   }
  },
  {
   "cell_type": "markdown",
   "source": [
    "# <span style=\"color:blue\">Splitting Data Into Num and Cat</span>"
   ],
   "metadata": {
    "collapsed": false
   }
  },
  {
   "cell_type": "code",
   "execution_count": 6,
   "outputs": [],
   "source": [
    "num = X.select_dtypes(include=np.number)\n",
    "char = X.select_dtypes(exclude=np.number)"
   ],
   "metadata": {
    "collapsed": false,
    "ExecuteTime": {
     "start_time": "2023-04-19T16:08:21.493252Z",
     "end_time": "2023-04-19T16:08:21.500866Z"
    }
   }
  },
  {
   "cell_type": "markdown",
   "source": [
    "# <span style=\"color:blue\">Encoding Categorical Data</span>"
   ],
   "metadata": {
    "collapsed": false
   }
  },
  {
   "cell_type": "code",
   "execution_count": 8,
   "outputs": [
    {
     "name": "stderr",
     "output_type": "stream",
     "text": [
      "/var/folders/53/yp563cbn3r7g84qqyk6nd4140000gn/T/ipykernel_3636/2746251585.py:1: FutureWarning: In a future version, the Index constructor will not infer numeric dtypes when passed object-dtype sequences (matching Series behavior)\n",
      "  X_char_dum = pd.get_dummies(char, drop_first = True)\n",
      "/var/folders/53/yp563cbn3r7g84qqyk6nd4140000gn/T/ipykernel_3636/2746251585.py:1: FutureWarning: In a future version, the Index constructor will not infer numeric dtypes when passed object-dtype sequences (matching Series behavior)\n",
      "  X_char_dum = pd.get_dummies(char, drop_first = True)\n",
      "/var/folders/53/yp563cbn3r7g84qqyk6nd4140000gn/T/ipykernel_3636/2746251585.py:1: FutureWarning: In a future version, the Index constructor will not infer numeric dtypes when passed object-dtype sequences (matching Series behavior)\n",
      "  X_char_dum = pd.get_dummies(char, drop_first = True)\n",
      "/var/folders/53/yp563cbn3r7g84qqyk6nd4140000gn/T/ipykernel_3636/2746251585.py:1: FutureWarning: In a future version, the Index constructor will not infer numeric dtypes when passed object-dtype sequences (matching Series behavior)\n",
      "  X_char_dum = pd.get_dummies(char, drop_first = True)\n"
     ]
    }
   ],
   "source": [
    "X_char_dum = pd.get_dummies(char, drop_first = True)"
   ],
   "metadata": {
    "collapsed": false,
    "ExecuteTime": {
     "start_time": "2023-04-19T16:09:14.356892Z",
     "end_time": "2023-04-19T16:09:14.370225Z"
    }
   }
  },
  {
   "cell_type": "markdown",
   "source": [
    "\n",
    "# <span style=\"color:blue\">Combining Data</span>"
   ],
   "metadata": {
    "collapsed": false
   }
  },
  {
   "cell_type": "code",
   "execution_count": 9,
   "outputs": [],
   "source": [
    "X_all = pd.concat([num, X_char_dum], axis=1)"
   ],
   "metadata": {
    "collapsed": false,
    "ExecuteTime": {
     "start_time": "2023-04-19T16:09:44.264566Z",
     "end_time": "2023-04-19T16:09:44.272279Z"
    }
   }
  },
  {
   "cell_type": "markdown",
   "source": [
    "# <span style=\"color:blue\">Splitting Data</span>"
   ],
   "metadata": {
    "collapsed": false
   }
  },
  {
   "cell_type": "code",
   "execution_count": 10,
   "outputs": [
    {
     "name": "stdout",
     "output_type": "stream",
     "text": [
      "Shape of Training Data (534, 20)\n",
      "Shape of Validation Data (178, 20)\n",
      "Shape of Testing Data (179, 20)\n",
      "Churn Rate in Training Data 0.3838951310861423\n",
      "Churn Rate in Validation Data 0.38202247191011235\n",
      "Churn Rate in Testing Data 0.3854748603351955\n"
     ]
    }
   ],
   "source": [
    "X_train, X_validate, X_test, y_train, y_validate, y_test = acquire.train_validate_test_split(X_all, Y)\n",
    "print(\"Shape of Training Data\", X_train.shape)\n",
    "print(\"Shape of Validation Data\", X_validate.shape)\n",
    "print(\"Shape of Testing Data\", X_test.shape)\n",
    "print(\"Churn Rate in Training Data\", y_train.mean())\n",
    "print(\"Churn Rate in Validation Data\", y_validate.mean())\n",
    "print(\"Churn Rate in Testing Data\", y_test.mean())"
   ],
   "metadata": {
    "collapsed": false,
    "ExecuteTime": {
     "start_time": "2023-04-19T16:10:08.281589Z",
     "end_time": "2023-04-19T16:10:08.294217Z"
    }
   }
  },
  {
   "cell_type": "markdown",
   "source": [
    "# <span style=\"color:blue\">Building Random Forest Model</span>"
   ],
   "metadata": {
    "collapsed": false
   }
  },
  {
   "cell_type": "code",
   "execution_count": null,
   "outputs": [],
   "source": [],
   "metadata": {
    "collapsed": false
   }
  }
 ],
 "metadata": {
  "kernelspec": {
   "display_name": "Python 3",
   "language": "python",
   "name": "python3"
  },
  "language_info": {
   "codemirror_mode": {
    "name": "ipython",
    "version": 2
   },
   "file_extension": ".py",
   "mimetype": "text/x-python",
   "name": "python",
   "nbconvert_exporter": "python",
   "pygments_lexer": "ipython2",
   "version": "2.7.6"
  }
 },
 "nbformat": 4,
 "nbformat_minor": 0
}
