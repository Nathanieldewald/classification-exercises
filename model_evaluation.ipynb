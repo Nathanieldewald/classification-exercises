{
 "cells": [
  {
   "cell_type": "code",
   "execution_count": 59,
   "outputs": [],
   "source": [
    "from sklearn.metrics import accuracy_score, precision_score, recall_score, classification_report\n",
    "import pandas as pd\n",
    "import numpy as np\n",
    "import matplotlib.pyplot as plt\n",
    "import seaborn as sns\n",
    "from sklearn.metrics import confusion_matrix\n",
    "from sklearn.metrics import classification_report\n",
    "from pydataset import data"
   ],
   "metadata": {
    "collapsed": false,
    "ExecuteTime": {
     "start_time": "2023-04-18T13:33:33.591937Z",
     "end_time": "2023-04-18T13:33:33.633129Z"
    }
   }
  },
  {
   "cell_type": "markdown",
   "source": [
    "# 2.Given the following confusion matrix, evaluate (by hand) the model's performance.\n",
    "\n",
    "\n",
    "|               | pred dog   | pred cat   |\n",
    "|:------------  |-----------:|-----------:|\n",
    "| actual dog    |         46 |         7  |\n",
    "| actual cat    |         13 |         34 |\n",
    "    * In the context of this problem, what is a false positive?\n",
    "    * In the context of this problem, what is a false negative?\n",
    "    * How would you describe this model?"
   ],
   "metadata": {
    "collapsed": false
   }
  },
  {
   "cell_type": "markdown",
   "source": [
    "# the false positive is when the model predicts a cat when it is actually a dog\n",
    "# the false negative is when the model predicts a dog when it is actually a cat\n",
    "# this model is good at predicting cats but not so good at predicting dogs\n"
   ],
   "metadata": {
    "collapsed": false
   }
  },
  {
   "cell_type": "markdown",
   "source": [
    "# 3.You are working as a datascientist working for Codeup Cody Creator (C3 for short), a rubber-duck manufacturing plant.\n",
    "\n",
    "## Unfortunately, some of the rubber ducks that are produced will have defects. Your team has built several models that try to predict those defects, and the data from their predictions can be found here.\n",
    "\n",
    "## Use the predictions dataset and pandas to help answer the following questions:\n",
    "\n",
    "- An internal team wants to investigate the cause of the manufacturing defects. They tell you that they want to identify as many of the ducks that have a defect as possible. Which evaluation metric would be appropriate here? ** recall **\n",
    "    - Which model would be the best fit for this use case? model 3\n",
    "\n",
    "   * Recently several stories in the local news have come out highlighting customers who received a rubber duck with a defect,\n",
    "    and portraying C3 in a bad light. The PR team has decided to launch a program that gives customers with a defective duck\n",
    "    a vacation to Hawaii. They need you to predict which ducks will have defects, but tell you the really don't want to accidentally\n",
    "    give out a vacation package when the duck really doesn't have a defect. Which evaluation metric would be appropriate here? percision\n",
    "    Which model would be the best fit for this use case? model 1"
   ],
   "metadata": {
    "collapsed": false
   }
  },
  {
   "cell_type": "code",
   "execution_count": 60,
   "outputs": [
    {
     "data": {
      "text/plain": "        actual     model1     model2     model3\n0    No Defect  No Defect     Defect  No Defect\n1    No Defect  No Defect     Defect     Defect\n2    No Defect  No Defect     Defect  No Defect\n3    No Defect     Defect     Defect     Defect\n4    No Defect  No Defect     Defect  No Defect\n..         ...        ...        ...        ...\n195  No Defect  No Defect     Defect     Defect\n196     Defect     Defect  No Defect  No Defect\n197  No Defect  No Defect  No Defect  No Defect\n198  No Defect  No Defect     Defect     Defect\n199  No Defect  No Defect  No Defect     Defect\n\n[200 rows x 4 columns]",
      "text/html": "<div>\n<style scoped>\n    .dataframe tbody tr th:only-of-type {\n        vertical-align: middle;\n    }\n\n    .dataframe tbody tr th {\n        vertical-align: top;\n    }\n\n    .dataframe thead th {\n        text-align: right;\n    }\n</style>\n<table border=\"1\" class=\"dataframe\">\n  <thead>\n    <tr style=\"text-align: right;\">\n      <th></th>\n      <th>actual</th>\n      <th>model1</th>\n      <th>model2</th>\n      <th>model3</th>\n    </tr>\n  </thead>\n  <tbody>\n    <tr>\n      <th>0</th>\n      <td>No Defect</td>\n      <td>No Defect</td>\n      <td>Defect</td>\n      <td>No Defect</td>\n    </tr>\n    <tr>\n      <th>1</th>\n      <td>No Defect</td>\n      <td>No Defect</td>\n      <td>Defect</td>\n      <td>Defect</td>\n    </tr>\n    <tr>\n      <th>2</th>\n      <td>No Defect</td>\n      <td>No Defect</td>\n      <td>Defect</td>\n      <td>No Defect</td>\n    </tr>\n    <tr>\n      <th>3</th>\n      <td>No Defect</td>\n      <td>Defect</td>\n      <td>Defect</td>\n      <td>Defect</td>\n    </tr>\n    <tr>\n      <th>4</th>\n      <td>No Defect</td>\n      <td>No Defect</td>\n      <td>Defect</td>\n      <td>No Defect</td>\n    </tr>\n    <tr>\n      <th>...</th>\n      <td>...</td>\n      <td>...</td>\n      <td>...</td>\n      <td>...</td>\n    </tr>\n    <tr>\n      <th>195</th>\n      <td>No Defect</td>\n      <td>No Defect</td>\n      <td>Defect</td>\n      <td>Defect</td>\n    </tr>\n    <tr>\n      <th>196</th>\n      <td>Defect</td>\n      <td>Defect</td>\n      <td>No Defect</td>\n      <td>No Defect</td>\n    </tr>\n    <tr>\n      <th>197</th>\n      <td>No Defect</td>\n      <td>No Defect</td>\n      <td>No Defect</td>\n      <td>No Defect</td>\n    </tr>\n    <tr>\n      <th>198</th>\n      <td>No Defect</td>\n      <td>No Defect</td>\n      <td>Defect</td>\n      <td>Defect</td>\n    </tr>\n    <tr>\n      <th>199</th>\n      <td>No Defect</td>\n      <td>No Defect</td>\n      <td>No Defect</td>\n      <td>Defect</td>\n    </tr>\n  </tbody>\n</table>\n<p>200 rows × 4 columns</p>\n</div>"
     },
     "execution_count": 60,
     "metadata": {},
     "output_type": "execute_result"
    }
   ],
   "source": [
    "df = pd.read_csv('c3.csv')\n",
    "df"
   ],
   "metadata": {
    "collapsed": false,
    "ExecuteTime": {
     "start_time": "2023-04-18T13:33:33.613842Z",
     "end_time": "2023-04-18T13:33:33.684438Z"
    }
   }
  },
  {
   "cell_type": "code",
   "execution_count": 61,
   "outputs": [
    {
     "data": {
      "text/plain": "No Defect    184\nDefect        16\nName: actual, dtype: int64"
     },
     "execution_count": 61,
     "metadata": {},
     "output_type": "execute_result"
    }
   ],
   "source": [
    "# check for most common value\n",
    "df.actual.value_counts()"
   ],
   "metadata": {
    "collapsed": false,
    "ExecuteTime": {
     "start_time": "2023-04-18T13:33:33.621473Z",
     "end_time": "2023-04-18T13:33:33.689264Z"
    }
   }
  },
  {
   "cell_type": "code",
   "execution_count": 62,
   "outputs": [
    {
     "data": {
      "text/plain": "        actual     model1     model2     model3   baseline\n0    No Defect  No Defect     Defect  No Defect  no_defect\n1    No Defect  No Defect     Defect     Defect  no_defect\n2    No Defect  No Defect     Defect  No Defect  no_defect\n3    No Defect     Defect     Defect     Defect  no_defect\n4    No Defect  No Defect     Defect  No Defect  no_defect\n..         ...        ...        ...        ...        ...\n195  No Defect  No Defect     Defect     Defect  no_defect\n196     Defect     Defect  No Defect  No Defect  no_defect\n197  No Defect  No Defect  No Defect  No Defect  no_defect\n198  No Defect  No Defect     Defect     Defect  no_defect\n199  No Defect  No Defect  No Defect     Defect  no_defect\n\n[200 rows x 5 columns]",
      "text/html": "<div>\n<style scoped>\n    .dataframe tbody tr th:only-of-type {\n        vertical-align: middle;\n    }\n\n    .dataframe tbody tr th {\n        vertical-align: top;\n    }\n\n    .dataframe thead th {\n        text-align: right;\n    }\n</style>\n<table border=\"1\" class=\"dataframe\">\n  <thead>\n    <tr style=\"text-align: right;\">\n      <th></th>\n      <th>actual</th>\n      <th>model1</th>\n      <th>model2</th>\n      <th>model3</th>\n      <th>baseline</th>\n    </tr>\n  </thead>\n  <tbody>\n    <tr>\n      <th>0</th>\n      <td>No Defect</td>\n      <td>No Defect</td>\n      <td>Defect</td>\n      <td>No Defect</td>\n      <td>no_defect</td>\n    </tr>\n    <tr>\n      <th>1</th>\n      <td>No Defect</td>\n      <td>No Defect</td>\n      <td>Defect</td>\n      <td>Defect</td>\n      <td>no_defect</td>\n    </tr>\n    <tr>\n      <th>2</th>\n      <td>No Defect</td>\n      <td>No Defect</td>\n      <td>Defect</td>\n      <td>No Defect</td>\n      <td>no_defect</td>\n    </tr>\n    <tr>\n      <th>3</th>\n      <td>No Defect</td>\n      <td>Defect</td>\n      <td>Defect</td>\n      <td>Defect</td>\n      <td>no_defect</td>\n    </tr>\n    <tr>\n      <th>4</th>\n      <td>No Defect</td>\n      <td>No Defect</td>\n      <td>Defect</td>\n      <td>No Defect</td>\n      <td>no_defect</td>\n    </tr>\n    <tr>\n      <th>...</th>\n      <td>...</td>\n      <td>...</td>\n      <td>...</td>\n      <td>...</td>\n      <td>...</td>\n    </tr>\n    <tr>\n      <th>195</th>\n      <td>No Defect</td>\n      <td>No Defect</td>\n      <td>Defect</td>\n      <td>Defect</td>\n      <td>no_defect</td>\n    </tr>\n    <tr>\n      <th>196</th>\n      <td>Defect</td>\n      <td>Defect</td>\n      <td>No Defect</td>\n      <td>No Defect</td>\n      <td>no_defect</td>\n    </tr>\n    <tr>\n      <th>197</th>\n      <td>No Defect</td>\n      <td>No Defect</td>\n      <td>No Defect</td>\n      <td>No Defect</td>\n      <td>no_defect</td>\n    </tr>\n    <tr>\n      <th>198</th>\n      <td>No Defect</td>\n      <td>No Defect</td>\n      <td>Defect</td>\n      <td>Defect</td>\n      <td>no_defect</td>\n    </tr>\n    <tr>\n      <th>199</th>\n      <td>No Defect</td>\n      <td>No Defect</td>\n      <td>No Defect</td>\n      <td>Defect</td>\n      <td>no_defect</td>\n    </tr>\n  </tbody>\n</table>\n<p>200 rows × 5 columns</p>\n</div>"
     },
     "execution_count": 62,
     "metadata": {},
     "output_type": "execute_result"
    }
   ],
   "source": [
    "# baseline no_defect\n",
    "df['baseline'] = 'no_defect'\n",
    "df"
   ],
   "metadata": {
    "collapsed": false,
    "ExecuteTime": {
     "start_time": "2023-04-18T13:33:33.624708Z",
     "end_time": "2023-04-18T13:33:33.699518Z"
    }
   }
  },
  {
   "cell_type": "code",
   "execution_count": 63,
   "outputs": [
    {
     "data": {
      "text/plain": "model1     Defect  No Defect\nactual                      \nDefect          8          8\nNo Defect       2        182",
      "text/html": "<div>\n<style scoped>\n    .dataframe tbody tr th:only-of-type {\n        vertical-align: middle;\n    }\n\n    .dataframe tbody tr th {\n        vertical-align: top;\n    }\n\n    .dataframe thead th {\n        text-align: right;\n    }\n</style>\n<table border=\"1\" class=\"dataframe\">\n  <thead>\n    <tr style=\"text-align: right;\">\n      <th>model1</th>\n      <th>Defect</th>\n      <th>No Defect</th>\n    </tr>\n    <tr>\n      <th>actual</th>\n      <th></th>\n      <th></th>\n    </tr>\n  </thead>\n  <tbody>\n    <tr>\n      <th>Defect</th>\n      <td>8</td>\n      <td>8</td>\n    </tr>\n    <tr>\n      <th>No Defect</th>\n      <td>2</td>\n      <td>182</td>\n    </tr>\n  </tbody>\n</table>\n</div>"
     },
     "execution_count": 63,
     "metadata": {},
     "output_type": "execute_result"
    }
   ],
   "source": [
    "pd.crosstab(df.actual, df.model1)"
   ],
   "metadata": {
    "collapsed": false,
    "ExecuteTime": {
     "start_time": "2023-04-18T13:33:33.629568Z",
     "end_time": "2023-04-18T13:33:33.704836Z"
    }
   }
  },
  {
   "cell_type": "code",
   "execution_count": 64,
   "outputs": [
    {
     "name": "stdout",
     "output_type": "stream",
     "text": [
      "              precision    recall  f1-score   support\n",
      "\n",
      "      Defect       0.80      0.50      0.62        16\n",
      "   No Defect       0.96      0.99      0.97       184\n",
      "\n",
      "    accuracy                           0.95       200\n",
      "   macro avg       0.88      0.74      0.79       200\n",
      "weighted avg       0.95      0.95      0.94       200\n",
      "\n"
     ]
    }
   ],
   "source": [
    "y_pred = df.model1\n",
    "y_actual = df.actual\n",
    "print(classification_report(y_actual, y_pred))\n"
   ],
   "metadata": {
    "collapsed": false,
    "ExecuteTime": {
     "start_time": "2023-04-18T13:33:33.637040Z",
     "end_time": "2023-04-18T13:33:33.705075Z"
    }
   }
  },
  {
   "cell_type": "code",
   "execution_count": 65,
   "outputs": [
    {
     "data": {
      "text/plain": "model2     Defect  No Defect\nactual                      \nDefect          9          7\nNo Defect      81        103",
      "text/html": "<div>\n<style scoped>\n    .dataframe tbody tr th:only-of-type {\n        vertical-align: middle;\n    }\n\n    .dataframe tbody tr th {\n        vertical-align: top;\n    }\n\n    .dataframe thead th {\n        text-align: right;\n    }\n</style>\n<table border=\"1\" class=\"dataframe\">\n  <thead>\n    <tr style=\"text-align: right;\">\n      <th>model2</th>\n      <th>Defect</th>\n      <th>No Defect</th>\n    </tr>\n    <tr>\n      <th>actual</th>\n      <th></th>\n      <th></th>\n    </tr>\n  </thead>\n  <tbody>\n    <tr>\n      <th>Defect</th>\n      <td>9</td>\n      <td>7</td>\n    </tr>\n    <tr>\n      <th>No Defect</th>\n      <td>81</td>\n      <td>103</td>\n    </tr>\n  </tbody>\n</table>\n</div>"
     },
     "execution_count": 65,
     "metadata": {},
     "output_type": "execute_result"
    }
   ],
   "source": [
    "pd.crosstab(df.actual, df.model2)"
   ],
   "metadata": {
    "collapsed": false,
    "ExecuteTime": {
     "start_time": "2023-04-18T13:33:33.643011Z",
     "end_time": "2023-04-18T13:33:33.705197Z"
    }
   }
  },
  {
   "cell_type": "code",
   "execution_count": 66,
   "outputs": [
    {
     "name": "stdout",
     "output_type": "stream",
     "text": [
      "              precision    recall  f1-score   support\n",
      "\n",
      "      Defect       0.10      0.56      0.17        16\n",
      "   No Defect       0.94      0.56      0.70       184\n",
      "\n",
      "    accuracy                           0.56       200\n",
      "   macro avg       0.52      0.56      0.44       200\n",
      "weighted avg       0.87      0.56      0.66       200\n",
      "\n"
     ]
    }
   ],
   "source": [
    "y_pred = df.model2\n",
    "y_actual = df.actual\n",
    "print(classification_report(y_actual, y_pred))"
   ],
   "metadata": {
    "collapsed": false,
    "ExecuteTime": {
     "start_time": "2023-04-18T13:33:33.648888Z",
     "end_time": "2023-04-18T13:33:33.705293Z"
    }
   }
  },
  {
   "cell_type": "code",
   "execution_count": 67,
   "outputs": [
    {
     "data": {
      "text/plain": "actual     Defect  No Defect\nmodel3                      \nDefect         13         86\nNo Defect       3         98",
      "text/html": "<div>\n<style scoped>\n    .dataframe tbody tr th:only-of-type {\n        vertical-align: middle;\n    }\n\n    .dataframe tbody tr th {\n        vertical-align: top;\n    }\n\n    .dataframe thead th {\n        text-align: right;\n    }\n</style>\n<table border=\"1\" class=\"dataframe\">\n  <thead>\n    <tr style=\"text-align: right;\">\n      <th>actual</th>\n      <th>Defect</th>\n      <th>No Defect</th>\n    </tr>\n    <tr>\n      <th>model3</th>\n      <th></th>\n      <th></th>\n    </tr>\n  </thead>\n  <tbody>\n    <tr>\n      <th>Defect</th>\n      <td>13</td>\n      <td>86</td>\n    </tr>\n    <tr>\n      <th>No Defect</th>\n      <td>3</td>\n      <td>98</td>\n    </tr>\n  </tbody>\n</table>\n</div>"
     },
     "execution_count": 67,
     "metadata": {},
     "output_type": "execute_result"
    }
   ],
   "source": [
    "pd.crosstab(df.model3, df.actual)"
   ],
   "metadata": {
    "collapsed": false,
    "ExecuteTime": {
     "start_time": "2023-04-18T13:33:33.655063Z",
     "end_time": "2023-04-18T13:33:33.705335Z"
    }
   }
  },
  {
   "cell_type": "code",
   "execution_count": 69,
   "outputs": [
    {
     "name": "stdout",
     "output_type": "stream",
     "text": [
      "              precision    recall  f1-score   support\n",
      "\n",
      "      Defect       0.13      0.81      0.23        16\n",
      "   No Defect       0.97      0.53      0.69       184\n",
      "\n",
      "    accuracy                           0.56       200\n",
      "   macro avg       0.55      0.67      0.46       200\n",
      "weighted avg       0.90      0.56      0.65       200\n",
      "\n"
     ]
    }
   ],
   "source": [
    "y_pred = df.model3\n",
    "y_actual = df.actual\n",
    "print(classification_report(y_actual, y_pred))"
   ],
   "metadata": {
    "collapsed": false,
    "ExecuteTime": {
     "start_time": "2023-04-18T13:33:33.667807Z",
     "end_time": "2023-04-18T13:33:33.705510Z"
    }
   }
  },
  {
   "cell_type": "markdown",
   "source": [
    "# 4.You are working as a data scientist for Gives You Paws ™, a subscription based service that shows you cute pictures of dogs or cats (or both for an additional fee).\n",
    "\n",
    "### At Gives You Paws, anyone can upload pictures of their cats or dogs. The photos are then put through a two step process. First an automated algorithm tags pictures as either a cat or a dog (Phase I). Next, the photos that have been initially identified are put through another round of review, possibly with some human oversight, before being presented to the users (Phase II).\n",
    "\n",
    "### Several models have already been developed with the data, and you can find their results here.\n",
    "\n",
    "### Given this dataset, use pandas to create a baseline model (i.e. a model that just predicts the most common class) and answer the following questions:\n",
    "\n",
    "   * In terms of accuracy, how do the various models compare to the baseline model? 1 and 4 are better than the baseline and 2 and 3 are worse than the baseline\n",
    "   * Are any of the models better than the baseline? 1 and 4 are better than the baseline\n",
    "   * Suppose you are working on a team that solely deals with dog pictures. Which of these models would you recommend? 1 and 4 are better for dog pictures\n",
    "   * Suppose you are working on a team that solely deals with cat pictures. Which of these models would you recommend? 1 and 2 are better for cat pictures"
   ],
   "metadata": {
    "collapsed": false
   }
  },
  {
   "cell_type": "code",
   "execution_count": 70,
   "outputs": [
    {
     "data": {
      "text/plain": "     actual model1 model2 model3 model4 baseline\n0       cat    cat    dog    cat    dog      dog\n1       dog    dog    cat    cat    dog      dog\n2       dog    cat    cat    cat    dog      dog\n3       dog    dog    dog    cat    dog      dog\n4       cat    cat    cat    dog    dog      dog\n...     ...    ...    ...    ...    ...      ...\n4995    dog    dog    dog    dog    dog      dog\n4996    dog    dog    cat    cat    dog      dog\n4997    dog    cat    cat    dog    dog      dog\n4998    cat    cat    cat    cat    dog      dog\n4999    dog    dog    dog    dog    dog      dog\n\n[5000 rows x 6 columns]",
      "text/html": "<div>\n<style scoped>\n    .dataframe tbody tr th:only-of-type {\n        vertical-align: middle;\n    }\n\n    .dataframe tbody tr th {\n        vertical-align: top;\n    }\n\n    .dataframe thead th {\n        text-align: right;\n    }\n</style>\n<table border=\"1\" class=\"dataframe\">\n  <thead>\n    <tr style=\"text-align: right;\">\n      <th></th>\n      <th>actual</th>\n      <th>model1</th>\n      <th>model2</th>\n      <th>model3</th>\n      <th>model4</th>\n      <th>baseline</th>\n    </tr>\n  </thead>\n  <tbody>\n    <tr>\n      <th>0</th>\n      <td>cat</td>\n      <td>cat</td>\n      <td>dog</td>\n      <td>cat</td>\n      <td>dog</td>\n      <td>dog</td>\n    </tr>\n    <tr>\n      <th>1</th>\n      <td>dog</td>\n      <td>dog</td>\n      <td>cat</td>\n      <td>cat</td>\n      <td>dog</td>\n      <td>dog</td>\n    </tr>\n    <tr>\n      <th>2</th>\n      <td>dog</td>\n      <td>cat</td>\n      <td>cat</td>\n      <td>cat</td>\n      <td>dog</td>\n      <td>dog</td>\n    </tr>\n    <tr>\n      <th>3</th>\n      <td>dog</td>\n      <td>dog</td>\n      <td>dog</td>\n      <td>cat</td>\n      <td>dog</td>\n      <td>dog</td>\n    </tr>\n    <tr>\n      <th>4</th>\n      <td>cat</td>\n      <td>cat</td>\n      <td>cat</td>\n      <td>dog</td>\n      <td>dog</td>\n      <td>dog</td>\n    </tr>\n    <tr>\n      <th>...</th>\n      <td>...</td>\n      <td>...</td>\n      <td>...</td>\n      <td>...</td>\n      <td>...</td>\n      <td>...</td>\n    </tr>\n    <tr>\n      <th>4995</th>\n      <td>dog</td>\n      <td>dog</td>\n      <td>dog</td>\n      <td>dog</td>\n      <td>dog</td>\n      <td>dog</td>\n    </tr>\n    <tr>\n      <th>4996</th>\n      <td>dog</td>\n      <td>dog</td>\n      <td>cat</td>\n      <td>cat</td>\n      <td>dog</td>\n      <td>dog</td>\n    </tr>\n    <tr>\n      <th>4997</th>\n      <td>dog</td>\n      <td>cat</td>\n      <td>cat</td>\n      <td>dog</td>\n      <td>dog</td>\n      <td>dog</td>\n    </tr>\n    <tr>\n      <th>4998</th>\n      <td>cat</td>\n      <td>cat</td>\n      <td>cat</td>\n      <td>cat</td>\n      <td>dog</td>\n      <td>dog</td>\n    </tr>\n    <tr>\n      <th>4999</th>\n      <td>dog</td>\n      <td>dog</td>\n      <td>dog</td>\n      <td>dog</td>\n      <td>dog</td>\n      <td>dog</td>\n    </tr>\n  </tbody>\n</table>\n<p>5000 rows × 6 columns</p>\n</div>"
     },
     "execution_count": 70,
     "metadata": {},
     "output_type": "execute_result"
    }
   ],
   "source": [
    "df = pd.read_csv('gives_you_paws.csv')\n",
    "df.actual.value_counts()\n",
    "df['baseline'] = 'dog'\n",
    "df"
   ],
   "metadata": {
    "collapsed": false,
    "ExecuteTime": {
     "start_time": "2023-04-18T13:33:33.671802Z",
     "end_time": "2023-04-18T13:33:33.705935Z"
    }
   }
  },
  {
   "cell_type": "code",
   "execution_count": 71,
   "outputs": [
    {
     "data": {
      "text/plain": "0.6508"
     },
     "execution_count": 71,
     "metadata": {},
     "output_type": "execute_result"
    }
   ],
   "source": [
    "(df.actual == df.baseline).mean()"
   ],
   "metadata": {
    "collapsed": false,
    "ExecuteTime": {
     "start_time": "2023-04-18T13:33:33.678372Z",
     "end_time": "2023-04-18T13:33:33.705984Z"
    }
   }
  },
  {
   "cell_type": "code",
   "execution_count": 72,
   "outputs": [
    {
     "data": {
      "text/plain": "model1   cat   dog\nactual            \ncat     1423   323\ndog      640  2614",
      "text/html": "<div>\n<style scoped>\n    .dataframe tbody tr th:only-of-type {\n        vertical-align: middle;\n    }\n\n    .dataframe tbody tr th {\n        vertical-align: top;\n    }\n\n    .dataframe thead th {\n        text-align: right;\n    }\n</style>\n<table border=\"1\" class=\"dataframe\">\n  <thead>\n    <tr style=\"text-align: right;\">\n      <th>model1</th>\n      <th>cat</th>\n      <th>dog</th>\n    </tr>\n    <tr>\n      <th>actual</th>\n      <th></th>\n      <th></th>\n    </tr>\n  </thead>\n  <tbody>\n    <tr>\n      <th>cat</th>\n      <td>1423</td>\n      <td>323</td>\n    </tr>\n    <tr>\n      <th>dog</th>\n      <td>640</td>\n      <td>2614</td>\n    </tr>\n  </tbody>\n</table>\n</div>"
     },
     "execution_count": 72,
     "metadata": {},
     "output_type": "execute_result"
    }
   ],
   "source": [
    "pd.crosstab(df.actual, df.model1)"
   ],
   "metadata": {
    "collapsed": false,
    "ExecuteTime": {
     "start_time": "2023-04-18T13:33:33.680409Z",
     "end_time": "2023-04-18T13:33:33.706029Z"
    }
   }
  },
  {
   "cell_type": "code",
   "execution_count": 73,
   "outputs": [
    {
     "name": "stdout",
     "output_type": "stream",
     "text": [
      "              precision    recall  f1-score   support\n",
      "\n",
      "         cat       0.69      0.82      0.75      1746\n",
      "         dog       0.89      0.80      0.84      3254\n",
      "\n",
      "    accuracy                           0.81      5000\n",
      "   macro avg       0.79      0.81      0.80      5000\n",
      "weighted avg       0.82      0.81      0.81      5000\n",
      "\n"
     ]
    }
   ],
   "source": [
    "y_pred = df.model1\n",
    "y_actual = df.actual\n",
    "print(classification_report(y_actual, y_pred))"
   ],
   "metadata": {
    "collapsed": false,
    "ExecuteTime": {
     "start_time": "2023-04-18T13:33:33.710162Z",
     "end_time": "2023-04-18T13:33:33.825054Z"
    }
   }
  },
  {
   "cell_type": "code",
   "execution_count": 74,
   "outputs": [
    {
     "data": {
      "text/plain": "model2   cat   dog\nactual            \ncat     1555   191\ndog     1657  1597",
      "text/html": "<div>\n<style scoped>\n    .dataframe tbody tr th:only-of-type {\n        vertical-align: middle;\n    }\n\n    .dataframe tbody tr th {\n        vertical-align: top;\n    }\n\n    .dataframe thead th {\n        text-align: right;\n    }\n</style>\n<table border=\"1\" class=\"dataframe\">\n  <thead>\n    <tr style=\"text-align: right;\">\n      <th>model2</th>\n      <th>cat</th>\n      <th>dog</th>\n    </tr>\n    <tr>\n      <th>actual</th>\n      <th></th>\n      <th></th>\n    </tr>\n  </thead>\n  <tbody>\n    <tr>\n      <th>cat</th>\n      <td>1555</td>\n      <td>191</td>\n    </tr>\n    <tr>\n      <th>dog</th>\n      <td>1657</td>\n      <td>1597</td>\n    </tr>\n  </tbody>\n</table>\n</div>"
     },
     "execution_count": 74,
     "metadata": {},
     "output_type": "execute_result"
    }
   ],
   "source": [
    "pd.crosstab(df.actual, df.model2)"
   ],
   "metadata": {
    "collapsed": false,
    "ExecuteTime": {
     "start_time": "2023-04-18T13:33:33.763463Z",
     "end_time": "2023-04-18T13:33:33.839325Z"
    }
   }
  },
  {
   "cell_type": "code",
   "execution_count": 75,
   "outputs": [
    {
     "name": "stdout",
     "output_type": "stream",
     "text": [
      "              precision    recall  f1-score   support\n",
      "\n",
      "         cat       0.48      0.89      0.63      1746\n",
      "         dog       0.89      0.49      0.63      3254\n",
      "\n",
      "    accuracy                           0.63      5000\n",
      "   macro avg       0.69      0.69      0.63      5000\n",
      "weighted avg       0.75      0.63      0.63      5000\n",
      "\n"
     ]
    }
   ],
   "source": [
    "y_pred = df.model2\n",
    "y_actual = df.actual\n",
    "print(classification_report(y_actual, y_pred))"
   ],
   "metadata": {
    "collapsed": false,
    "ExecuteTime": {
     "start_time": "2023-04-18T13:33:33.791935Z",
     "end_time": "2023-04-18T13:33:33.925002Z"
    }
   }
  },
  {
   "cell_type": "code",
   "execution_count": 76,
   "outputs": [
    {
     "data": {
      "text/plain": "model3   cat   dog\nactual            \ncat      893   853\ndog     1599  1655",
      "text/html": "<div>\n<style scoped>\n    .dataframe tbody tr th:only-of-type {\n        vertical-align: middle;\n    }\n\n    .dataframe tbody tr th {\n        vertical-align: top;\n    }\n\n    .dataframe thead th {\n        text-align: right;\n    }\n</style>\n<table border=\"1\" class=\"dataframe\">\n  <thead>\n    <tr style=\"text-align: right;\">\n      <th>model3</th>\n      <th>cat</th>\n      <th>dog</th>\n    </tr>\n    <tr>\n      <th>actual</th>\n      <th></th>\n      <th></th>\n    </tr>\n  </thead>\n  <tbody>\n    <tr>\n      <th>cat</th>\n      <td>893</td>\n      <td>853</td>\n    </tr>\n    <tr>\n      <th>dog</th>\n      <td>1599</td>\n      <td>1655</td>\n    </tr>\n  </tbody>\n</table>\n</div>"
     },
     "execution_count": 76,
     "metadata": {},
     "output_type": "execute_result"
    }
   ],
   "source": [
    "pd.crosstab(df.actual, df.model3)"
   ],
   "metadata": {
    "collapsed": false,
    "ExecuteTime": {
     "start_time": "2023-04-18T13:33:33.843236Z",
     "end_time": "2023-04-18T13:33:33.925158Z"
    }
   }
  },
  {
   "cell_type": "code",
   "execution_count": 77,
   "outputs": [
    {
     "name": "stdout",
     "output_type": "stream",
     "text": [
      "              precision    recall  f1-score   support\n",
      "\n",
      "         cat       0.36      0.51      0.42      1746\n",
      "         dog       0.66      0.51      0.57      3254\n",
      "\n",
      "    accuracy                           0.51      5000\n",
      "   macro avg       0.51      0.51      0.50      5000\n",
      "weighted avg       0.55      0.51      0.52      5000\n",
      "\n"
     ]
    }
   ],
   "source": [
    "y_pred = df.model3\n",
    "y_actual = df.actual\n",
    "print(classification_report(y_actual, y_pred))"
   ],
   "metadata": {
    "collapsed": false,
    "ExecuteTime": {
     "start_time": "2023-04-18T13:33:33.872302Z",
     "end_time": "2023-04-18T13:33:33.974019Z"
    }
   }
  },
  {
   "cell_type": "code",
   "execution_count": 78,
   "outputs": [
    {
     "data": {
      "text/plain": "model4  cat   dog\nactual           \ncat     603  1143\ndog     144  3110",
      "text/html": "<div>\n<style scoped>\n    .dataframe tbody tr th:only-of-type {\n        vertical-align: middle;\n    }\n\n    .dataframe tbody tr th {\n        vertical-align: top;\n    }\n\n    .dataframe thead th {\n        text-align: right;\n    }\n</style>\n<table border=\"1\" class=\"dataframe\">\n  <thead>\n    <tr style=\"text-align: right;\">\n      <th>model4</th>\n      <th>cat</th>\n      <th>dog</th>\n    </tr>\n    <tr>\n      <th>actual</th>\n      <th></th>\n      <th></th>\n    </tr>\n  </thead>\n  <tbody>\n    <tr>\n      <th>cat</th>\n      <td>603</td>\n      <td>1143</td>\n    </tr>\n    <tr>\n      <th>dog</th>\n      <td>144</td>\n      <td>3110</td>\n    </tr>\n  </tbody>\n</table>\n</div>"
     },
     "execution_count": 78,
     "metadata": {},
     "output_type": "execute_result"
    }
   ],
   "source": [
    "pd.crosstab(df.actual, df.model4)"
   ],
   "metadata": {
    "collapsed": false,
    "ExecuteTime": {
     "start_time": "2023-04-18T13:33:33.924923Z",
     "end_time": "2023-04-18T13:33:33.997758Z"
    }
   }
  },
  {
   "cell_type": "code",
   "execution_count": 83,
   "outputs": [
    {
     "name": "stdout",
     "output_type": "stream",
     "text": [
      "              precision    recall  f1-score   support\n",
      "\n",
      "         cat       0.81      0.35      0.48      1746\n",
      "         dog       0.73      0.96      0.83      3254\n",
      "\n",
      "    accuracy                           0.74      5000\n",
      "   macro avg       0.77      0.65      0.66      5000\n",
      "weighted avg       0.76      0.74      0.71      5000\n",
      "\n"
     ]
    }
   ],
   "source": [
    "y_pred = df.model4\n",
    "y_actual = df.actual\n",
    "print(classification_report(y_actual, y_pred))"
   ],
   "metadata": {
    "collapsed": false,
    "ExecuteTime": {
     "start_time": "2023-04-18T13:59:49.422536Z",
     "end_time": "2023-04-18T13:59:49.475928Z"
    }
   }
  },
  {
   "cell_type": "markdown",
   "source": [
    "Follow the links below to read the documentation about each function, then apply those functions to the data from the previous problem.\n",
    "\n",
    "sklearn.metrics.accuracy_score\n",
    "sklearn.metrics.precision_score\n",
    "sklearn.metrics.recall_score\n",
    "sklearn.metrics.classification_report"
   ],
   "metadata": {
    "collapsed": false
   }
  },
  {
   "cell_type": "code",
   "execution_count": 79,
   "outputs": [],
   "source": [],
   "metadata": {
    "collapsed": false,
    "ExecuteTime": {
     "start_time": "2023-04-18T13:33:34.003091Z",
     "end_time": "2023-04-18T13:33:34.062644Z"
    }
   }
  }
 ],
 "metadata": {
  "kernelspec": {
   "display_name": "Python 3",
   "language": "python",
   "name": "python3"
  },
  "language_info": {
   "codemirror_mode": {
    "name": "ipython",
    "version": 2
   },
   "file_extension": ".py",
   "mimetype": "text/x-python",
   "name": "python",
   "nbconvert_exporter": "python",
   "pygments_lexer": "ipython2",
   "version": "2.7.6"
  }
 },
 "nbformat": 4,
 "nbformat_minor": 0
}
