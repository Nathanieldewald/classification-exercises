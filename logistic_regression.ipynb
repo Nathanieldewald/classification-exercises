{
 "cells": [
  {
   "cell_type": "markdown",
   "source": [
    "# <span style=\"color:blue\">Imports</span>"
   ],
   "metadata": {
    "collapsed": false
   }
  },
  {
   "cell_type": "code",
   "execution_count": 1020,
   "outputs": [],
   "source": [
    "import pandas as pd\n",
    "import numpy as np\n",
    "import matplotlib.pyplot as plt\n",
    "import seaborn as sns\n",
    "import os\n",
    "import warnings\n",
    "warnings.filterwarnings('ignore')\n",
    "from sklearn.model_selection import train_test_split\n",
    "import acquire\n",
    "from sklearn.metrics import confusion_matrix\n",
    "from sklearn.linear_model import LogisticRegression"
   ],
   "metadata": {
    "collapsed": false,
    "ExecuteTime": {
     "start_time": "2023-04-24T13:40:42.894670Z",
     "end_time": "2023-04-24T13:40:43.234987Z"
    }
   }
  },
  {
   "cell_type": "markdown",
   "source": [
    "# <span style=\"color:blue\">Acquire Data</span>"
   ],
   "metadata": {
    "collapsed": false
   }
  },
  {
   "cell_type": "code",
   "execution_count": 1021,
   "outputs": [
    {
     "name": "stdout",
     "output_type": "stream",
     "text": [
      "csv file found and loaded\n"
     ]
    },
    {
     "data": {
      "text/plain": "passenger_id      int64\nsurvived          int64\npclass            int64\nsex              object\nage             float64\nsibsp             int64\nparch             int64\nfare            float64\nembarked         object\nclass            object\ndeck             object\nembark_town      object\nalone             int64\ndtype: object"
     },
     "execution_count": 1021,
     "metadata": {},
     "output_type": "execute_result"
    }
   ],
   "source": [
    "df = acquire.get_titanic_data()\n",
    "df.dtypes"
   ],
   "metadata": {
    "collapsed": false,
    "ExecuteTime": {
     "start_time": "2023-04-24T13:40:42.909213Z",
     "end_time": "2023-04-24T13:40:43.640193Z"
    }
   }
  },
  {
   "cell_type": "markdown",
   "source": [
    "# <span style=\"color:blue\">Prepare Data</span>\n"
   ],
   "metadata": {
    "collapsed": false
   }
  },
  {
   "cell_type": "code",
   "execution_count": 1022,
   "outputs": [],
   "source": [
    "#Create a model that includes only age, fare, and pclass. Does this model perform better than your baseline?\n",
    "#Include sex in your model as well. Note that you'll need to encode or create a dummy variable of this feature before\n",
    "# including it in a model.\n",
    "df = df.drop(columns=['passenger_id', 'sibsp', 'parch', 'embarked', 'class', 'deck', 'embark_town', 'alone'])"
   ],
   "metadata": {
    "collapsed": false,
    "ExecuteTime": {
     "start_time": "2023-04-24T13:40:42.924756Z",
     "end_time": "2023-04-24T13:40:43.661270Z"
    }
   }
  },
  {
   "cell_type": "code",
   "execution_count": 1023,
   "outputs": [
    {
     "data": {
      "text/plain": "     survived  pclass     sex   age     fare\n0           0       3    male  22.0   7.2500\n1           1       1  female  38.0  71.2833\n2           1       3  female  26.0   7.9250\n3           1       1  female  35.0  53.1000\n4           0       3    male  35.0   8.0500\n..        ...     ...     ...   ...      ...\n886         0       2    male  27.0  13.0000\n887         1       1  female  19.0  30.0000\n888         0       3  female   NaN  23.4500\n889         1       1    male  26.0  30.0000\n890         0       3    male  32.0   7.7500\n\n[891 rows x 5 columns]",
      "text/html": "<div>\n<style scoped>\n    .dataframe tbody tr th:only-of-type {\n        vertical-align: middle;\n    }\n\n    .dataframe tbody tr th {\n        vertical-align: top;\n    }\n\n    .dataframe thead th {\n        text-align: right;\n    }\n</style>\n<table border=\"1\" class=\"dataframe\">\n  <thead>\n    <tr style=\"text-align: right;\">\n      <th></th>\n      <th>survived</th>\n      <th>pclass</th>\n      <th>sex</th>\n      <th>age</th>\n      <th>fare</th>\n    </tr>\n  </thead>\n  <tbody>\n    <tr>\n      <th>0</th>\n      <td>0</td>\n      <td>3</td>\n      <td>male</td>\n      <td>22.0</td>\n      <td>7.2500</td>\n    </tr>\n    <tr>\n      <th>1</th>\n      <td>1</td>\n      <td>1</td>\n      <td>female</td>\n      <td>38.0</td>\n      <td>71.2833</td>\n    </tr>\n    <tr>\n      <th>2</th>\n      <td>1</td>\n      <td>3</td>\n      <td>female</td>\n      <td>26.0</td>\n      <td>7.9250</td>\n    </tr>\n    <tr>\n      <th>3</th>\n      <td>1</td>\n      <td>1</td>\n      <td>female</td>\n      <td>35.0</td>\n      <td>53.1000</td>\n    </tr>\n    <tr>\n      <th>4</th>\n      <td>0</td>\n      <td>3</td>\n      <td>male</td>\n      <td>35.0</td>\n      <td>8.0500</td>\n    </tr>\n    <tr>\n      <th>...</th>\n      <td>...</td>\n      <td>...</td>\n      <td>...</td>\n      <td>...</td>\n      <td>...</td>\n    </tr>\n    <tr>\n      <th>886</th>\n      <td>0</td>\n      <td>2</td>\n      <td>male</td>\n      <td>27.0</td>\n      <td>13.0000</td>\n    </tr>\n    <tr>\n      <th>887</th>\n      <td>1</td>\n      <td>1</td>\n      <td>female</td>\n      <td>19.0</td>\n      <td>30.0000</td>\n    </tr>\n    <tr>\n      <th>888</th>\n      <td>0</td>\n      <td>3</td>\n      <td>female</td>\n      <td>NaN</td>\n      <td>23.4500</td>\n    </tr>\n    <tr>\n      <th>889</th>\n      <td>1</td>\n      <td>1</td>\n      <td>male</td>\n      <td>26.0</td>\n      <td>30.0000</td>\n    </tr>\n    <tr>\n      <th>890</th>\n      <td>0</td>\n      <td>3</td>\n      <td>male</td>\n      <td>32.0</td>\n      <td>7.7500</td>\n    </tr>\n  </tbody>\n</table>\n<p>891 rows × 5 columns</p>\n</div>"
     },
     "execution_count": 1023,
     "metadata": {},
     "output_type": "execute_result"
    }
   ],
   "source": [
    "df"
   ],
   "metadata": {
    "collapsed": false,
    "ExecuteTime": {
     "start_time": "2023-04-24T13:40:42.929339Z",
     "end_time": "2023-04-24T13:40:43.661374Z"
    }
   }
  },
  {
   "cell_type": "code",
   "execution_count": 1024,
   "outputs": [],
   "source": [
    "# split data\n",
    "X = df.drop(columns=['survived'])\n",
    "Y = df[['survived']]"
   ],
   "metadata": {
    "collapsed": false,
    "ExecuteTime": {
     "start_time": "2023-04-24T13:40:42.932034Z",
     "end_time": "2023-04-24T13:40:43.661397Z"
    }
   }
  },
  {
   "cell_type": "code",
   "execution_count": 1025,
   "outputs": [],
   "source": [
    "# Check for nulls and replace with mean\n",
    "X.isnull().sum()\n",
    "X[\"age\"] = X.age.fillna(X.age.mean())"
   ],
   "metadata": {
    "collapsed": false,
    "ExecuteTime": {
     "start_time": "2023-04-24T13:40:42.934767Z",
     "end_time": "2023-04-24T13:40:43.663326Z"
    }
   }
  },
  {
   "cell_type": "code",
   "execution_count": 1026,
   "outputs": [],
   "source": [
    "# split into categorical and continuous\n",
    "num = X.select_dtypes(exclude='object')\n",
    "cat = X.select_dtypes(include='object')"
   ],
   "metadata": {
    "collapsed": false,
    "ExecuteTime": {
     "start_time": "2023-04-24T13:40:42.938343Z",
     "end_time": "2023-04-24T13:40:43.663353Z"
    }
   }
  },
  {
   "cell_type": "code",
   "execution_count": 1027,
   "outputs": [
    {
     "data": {
      "text/plain": "     sex_male\n0           1\n1           0\n2           0\n3           0\n4           1\n..        ...\n886         1\n887         0\n888         0\n889         1\n890         1\n\n[891 rows x 1 columns]",
      "text/html": "<div>\n<style scoped>\n    .dataframe tbody tr th:only-of-type {\n        vertical-align: middle;\n    }\n\n    .dataframe tbody tr th {\n        vertical-align: top;\n    }\n\n    .dataframe thead th {\n        text-align: right;\n    }\n</style>\n<table border=\"1\" class=\"dataframe\">\n  <thead>\n    <tr style=\"text-align: right;\">\n      <th></th>\n      <th>sex_male</th>\n    </tr>\n  </thead>\n  <tbody>\n    <tr>\n      <th>0</th>\n      <td>1</td>\n    </tr>\n    <tr>\n      <th>1</th>\n      <td>0</td>\n    </tr>\n    <tr>\n      <th>2</th>\n      <td>0</td>\n    </tr>\n    <tr>\n      <th>3</th>\n      <td>0</td>\n    </tr>\n    <tr>\n      <th>4</th>\n      <td>1</td>\n    </tr>\n    <tr>\n      <th>...</th>\n      <td>...</td>\n    </tr>\n    <tr>\n      <th>886</th>\n      <td>1</td>\n    </tr>\n    <tr>\n      <th>887</th>\n      <td>0</td>\n    </tr>\n    <tr>\n      <th>888</th>\n      <td>0</td>\n    </tr>\n    <tr>\n      <th>889</th>\n      <td>1</td>\n    </tr>\n    <tr>\n      <th>890</th>\n      <td>1</td>\n    </tr>\n  </tbody>\n</table>\n<p>891 rows × 1 columns</p>\n</div>"
     },
     "execution_count": 1027,
     "metadata": {},
     "output_type": "execute_result"
    }
   ],
   "source": [
    "#create dummy variables\n",
    "cat = pd.get_dummies(cat, drop_first=True)\n",
    "cat"
   ],
   "metadata": {
    "collapsed": false,
    "ExecuteTime": {
     "start_time": "2023-04-24T13:40:42.941045Z",
     "end_time": "2023-04-24T13:40:43.663416Z"
    }
   }
  },
  {
   "cell_type": "code",
   "execution_count": 1028,
   "outputs": [],
   "source": [
    "#join back together\n",
    "X = pd.concat([num, cat], axis=1)"
   ],
   "metadata": {
    "collapsed": false,
    "ExecuteTime": {
     "start_time": "2023-04-24T13:40:42.944786Z",
     "end_time": "2023-04-24T13:40:43.663436Z"
    }
   }
  },
  {
   "cell_type": "markdown",
   "source": [
    "# <span style=\"color:blue\">Baseline</span>"
   ],
   "metadata": {
    "collapsed": false
   }
  },
  {
   "cell_type": "code",
   "execution_count": 1029,
   "outputs": [
    {
     "name": "stdout",
     "output_type": "stream",
     "text": [
      "Baseline Prediction: 0\n",
      "Baseline Accuracy: 61.62%\n"
     ]
    }
   ],
   "source": [
    "Y.survived.value_counts()\n",
    "baseline = Y.survived.value_counts().max() / Y.survived.value_counts().sum()\n",
    "print(f'Baseline Prediction: {Y.survived.value_counts().idxmax()}')\n",
    "print(f'Baseline Accuracy: {baseline:.2%}')"
   ],
   "metadata": {
    "collapsed": false,
    "ExecuteTime": {
     "start_time": "2023-04-24T13:40:42.947290Z",
     "end_time": "2023-04-24T13:40:43.663477Z"
    }
   }
  },
  {
   "cell_type": "markdown",
   "source": [
    "# <span style=\"color:blue\">Convert to Train, Validate, Test</span>"
   ],
   "metadata": {
    "collapsed": false
   }
  },
  {
   "cell_type": "code",
   "execution_count": 1030,
   "outputs": [
    {
     "name": "stdout",
     "output_type": "stream",
     "text": [
      "Shape of Training Data (534, 4)\n",
      "Shape of Validation Data (178, 4)\n",
      "Shape of Testing Data (179, 4)\n",
      "Churn Rate in Training Data survived    0.383895\n",
      "dtype: float64\n",
      "Churn Rate in Validation Data survived    0.382022\n",
      "dtype: float64\n",
      "Churn Rate in Testing Data survived    0.385475\n",
      "dtype: float64\n"
     ]
    }
   ],
   "source": [
    "X_train, X_validate, X_test, y_train, y_validate, y_test = acquire.train_validate_test_split(X, Y)\n",
    "print(\"Shape of Training Data\", X_train.shape)\n",
    "print(\"Shape of Validation Data\", X_validate.shape)\n",
    "print(\"Shape of Testing Data\", X_test.shape)\n",
    "print(\"Churn Rate in Training Data\", y_train.mean())\n",
    "print(\"Churn Rate in Validation Data\", y_validate.mean())\n",
    "print(\"Churn Rate in Testing Data\", y_test.mean())"
   ],
   "metadata": {
    "collapsed": false,
    "ExecuteTime": {
     "start_time": "2023-04-24T13:40:42.953401Z",
     "end_time": "2023-04-24T13:40:43.671601Z"
    }
   }
  },
  {
   "cell_type": "markdown",
   "source": [
    "# <span style=\"color:blue\">Logistic Regression Model</span>"
   ],
   "metadata": {
    "collapsed": false
   }
  },
  {
   "cell_type": "code",
   "execution_count": 1031,
   "outputs": [],
   "source": [
    "# Create the object\n",
    "logit = LogisticRegression()"
   ],
   "metadata": {
    "collapsed": false,
    "ExecuteTime": {
     "start_time": "2023-04-24T13:40:42.964526Z",
     "end_time": "2023-04-24T13:40:43.688276Z"
    }
   }
  },
  {
   "cell_type": "code",
   "execution_count": 1032,
   "outputs": [
    {
     "data": {
      "text/plain": "LogisticRegression()",
      "text/html": "<style>#sk-container-id-59 {color: black;background-color: white;}#sk-container-id-59 pre{padding: 0;}#sk-container-id-59 div.sk-toggleable {background-color: white;}#sk-container-id-59 label.sk-toggleable__label {cursor: pointer;display: block;width: 100%;margin-bottom: 0;padding: 0.3em;box-sizing: border-box;text-align: center;}#sk-container-id-59 label.sk-toggleable__label-arrow:before {content: \"▸\";float: left;margin-right: 0.25em;color: #696969;}#sk-container-id-59 label.sk-toggleable__label-arrow:hover:before {color: black;}#sk-container-id-59 div.sk-estimator:hover label.sk-toggleable__label-arrow:before {color: black;}#sk-container-id-59 div.sk-toggleable__content {max-height: 0;max-width: 0;overflow: hidden;text-align: left;background-color: #f0f8ff;}#sk-container-id-59 div.sk-toggleable__content pre {margin: 0.2em;color: black;border-radius: 0.25em;background-color: #f0f8ff;}#sk-container-id-59 input.sk-toggleable__control:checked~div.sk-toggleable__content {max-height: 200px;max-width: 100%;overflow: auto;}#sk-container-id-59 input.sk-toggleable__control:checked~label.sk-toggleable__label-arrow:before {content: \"▾\";}#sk-container-id-59 div.sk-estimator input.sk-toggleable__control:checked~label.sk-toggleable__label {background-color: #d4ebff;}#sk-container-id-59 div.sk-label input.sk-toggleable__control:checked~label.sk-toggleable__label {background-color: #d4ebff;}#sk-container-id-59 input.sk-hidden--visually {border: 0;clip: rect(1px 1px 1px 1px);clip: rect(1px, 1px, 1px, 1px);height: 1px;margin: -1px;overflow: hidden;padding: 0;position: absolute;width: 1px;}#sk-container-id-59 div.sk-estimator {font-family: monospace;background-color: #f0f8ff;border: 1px dotted black;border-radius: 0.25em;box-sizing: border-box;margin-bottom: 0.5em;}#sk-container-id-59 div.sk-estimator:hover {background-color: #d4ebff;}#sk-container-id-59 div.sk-parallel-item::after {content: \"\";width: 100%;border-bottom: 1px solid gray;flex-grow: 1;}#sk-container-id-59 div.sk-label:hover label.sk-toggleable__label {background-color: #d4ebff;}#sk-container-id-59 div.sk-serial::before {content: \"\";position: absolute;border-left: 1px solid gray;box-sizing: border-box;top: 0;bottom: 0;left: 50%;z-index: 0;}#sk-container-id-59 div.sk-serial {display: flex;flex-direction: column;align-items: center;background-color: white;padding-right: 0.2em;padding-left: 0.2em;position: relative;}#sk-container-id-59 div.sk-item {position: relative;z-index: 1;}#sk-container-id-59 div.sk-parallel {display: flex;align-items: stretch;justify-content: center;background-color: white;position: relative;}#sk-container-id-59 div.sk-item::before, #sk-container-id-59 div.sk-parallel-item::before {content: \"\";position: absolute;border-left: 1px solid gray;box-sizing: border-box;top: 0;bottom: 0;left: 50%;z-index: -1;}#sk-container-id-59 div.sk-parallel-item {display: flex;flex-direction: column;z-index: 1;position: relative;background-color: white;}#sk-container-id-59 div.sk-parallel-item:first-child::after {align-self: flex-end;width: 50%;}#sk-container-id-59 div.sk-parallel-item:last-child::after {align-self: flex-start;width: 50%;}#sk-container-id-59 div.sk-parallel-item:only-child::after {width: 0;}#sk-container-id-59 div.sk-dashed-wrapped {border: 1px dashed gray;margin: 0 0.4em 0.5em 0.4em;box-sizing: border-box;padding-bottom: 0.4em;background-color: white;}#sk-container-id-59 div.sk-label label {font-family: monospace;font-weight: bold;display: inline-block;line-height: 1.2em;}#sk-container-id-59 div.sk-label-container {text-align: center;}#sk-container-id-59 div.sk-container {/* jupyter's `normalize.less` sets `[hidden] { display: none; }` but bootstrap.min.css set `[hidden] { display: none !important; }` so we also need the `!important` here to be able to override the default hidden behavior on the sphinx rendered scikit-learn.org. See: https://github.com/scikit-learn/scikit-learn/issues/21755 */display: inline-block !important;position: relative;}#sk-container-id-59 div.sk-text-repr-fallback {display: none;}</style><div id=\"sk-container-id-59\" class=\"sk-top-container\"><div class=\"sk-text-repr-fallback\"><pre>LogisticRegression()</pre><b>In a Jupyter environment, please rerun this cell to show the HTML representation or trust the notebook. <br />On GitHub, the HTML representation is unable to render, please try loading this page with nbviewer.org.</b></div><div class=\"sk-container\" hidden><div class=\"sk-item\"><div class=\"sk-estimator sk-toggleable\"><input class=\"sk-toggleable__control sk-hidden--visually\" id=\"sk-estimator-id-59\" type=\"checkbox\" checked><label for=\"sk-estimator-id-59\" class=\"sk-toggleable__label sk-toggleable__label-arrow\">LogisticRegression</label><div class=\"sk-toggleable__content\"><pre>LogisticRegression()</pre></div></div></div></div></div>"
     },
     "execution_count": 1032,
     "metadata": {},
     "output_type": "execute_result"
    }
   ],
   "source": [
    "# Fit the object\n",
    "logit.fit(X_train, y_train)"
   ],
   "metadata": {
    "collapsed": false,
    "ExecuteTime": {
     "start_time": "2023-04-24T13:40:42.967096Z",
     "end_time": "2023-04-24T13:40:43.688357Z"
    }
   }
  },
  {
   "cell_type": "code",
   "execution_count": 1033,
   "outputs": [
    {
     "name": "stdout",
     "output_type": "stream",
     "text": [
      "Coefficient: \n",
      " [[-1.14920042e+00 -2.79796794e-02 -1.06846138e-03 -2.59942200e+00]]\n",
      "Intercept: \n",
      " [4.58257482]\n"
     ]
    }
   ],
   "source": [
    "# Feacture Importance\n",
    "print('Coefficient: \\n', logit.coef_)\n",
    "print('Intercept: \\n', logit.intercept_)"
   ],
   "metadata": {
    "collapsed": false,
    "ExecuteTime": {
     "start_time": "2023-04-24T13:40:42.972120Z",
     "end_time": "2023-04-24T13:40:43.688443Z"
    }
   }
  },
  {
   "cell_type": "code",
   "execution_count": 1034,
   "outputs": [],
   "source": [
    "# Make predictions\n",
    "y_pred = logit.predict(X_train)"
   ],
   "metadata": {
    "collapsed": false,
    "ExecuteTime": {
     "start_time": "2023-04-24T13:40:42.974448Z",
     "end_time": "2023-04-24T13:40:43.694544Z"
    }
   }
  },
  {
   "cell_type": "code",
   "execution_count": 1035,
   "outputs": [],
   "source": [
    "# Estimate probability\n",
    "y_pred_proba = logit.predict_proba(X_train)\n"
   ],
   "metadata": {
    "collapsed": false,
    "ExecuteTime": {
     "start_time": "2023-04-24T13:40:42.977332Z",
     "end_time": "2023-04-24T13:40:43.694569Z"
    }
   }
  },
  {
   "cell_type": "markdown",
   "source": [
    "# <span style=\"color:blue\">Evaluate Model</span>"
   ],
   "metadata": {
    "collapsed": false
   }
  },
  {
   "cell_type": "code",
   "execution_count": 1036,
   "outputs": [
    {
     "data": {
      "text/plain": "0.8052434456928839"
     },
     "execution_count": 1036,
     "metadata": {},
     "output_type": "execute_result"
    }
   ],
   "source": [
    "# Accuracy\n",
    "logit.score(X_train, y_train)"
   ],
   "metadata": {
    "collapsed": false,
    "ExecuteTime": {
     "start_time": "2023-04-24T13:40:42.979578Z",
     "end_time": "2023-04-24T13:40:43.694625Z"
    }
   }
  },
  {
   "cell_type": "code",
   "execution_count": 1037,
   "outputs": [
    {
     "name": "stdout",
     "output_type": "stream",
     "text": [
      "[[282  47]\n",
      " [ 57 148]]\n"
     ]
    }
   ],
   "source": [
    "# Confusion Matrix\n",
    "from sklearn.metrics import confusion_matrix\n",
    "confusion_matrix = confusion_matrix(y_train, y_pred)\n",
    "print(confusion_matrix)"
   ],
   "metadata": {
    "collapsed": false,
    "ExecuteTime": {
     "start_time": "2023-04-24T13:40:42.982362Z",
     "end_time": "2023-04-24T13:40:43.694667Z"
    }
   }
  },
  {
   "cell_type": "code",
   "execution_count": 1038,
   "outputs": [
    {
     "name": "stdout",
     "output_type": "stream",
     "text": [
      "              precision    recall  f1-score   support\n",
      "\n",
      "           0       0.83      0.86      0.84       329\n",
      "           1       0.76      0.72      0.74       205\n",
      "\n",
      "    accuracy                           0.81       534\n",
      "   macro avg       0.80      0.79      0.79       534\n",
      "weighted avg       0.80      0.81      0.80       534\n",
      "\n"
     ]
    }
   ],
   "source": [
    "# Classification Report\n",
    "from sklearn.metrics import classification_report\n",
    "print(classification_report(y_train, y_pred))"
   ],
   "metadata": {
    "collapsed": false,
    "ExecuteTime": {
     "start_time": "2023-04-24T13:40:42.985064Z",
     "end_time": "2023-04-24T13:40:43.703879Z"
    }
   }
  },
  {
   "cell_type": "markdown",
   "source": [
    "# <span style=\"color:blue\">Validate Model</span>"
   ],
   "metadata": {
    "collapsed": false
   }
  },
  {
   "cell_type": "code",
   "execution_count": 1039,
   "outputs": [
    {
     "name": "stdout",
     "output_type": "stream",
     "text": [
      "Accuracy of Logistic Regression classifier on validation set: 0.78\n"
     ]
    }
   ],
   "source": [
    "# Accuracy\n",
    "print('Accuracy of Logistic Regression classifier on validation set: {:.2f}'\n",
    "     .format(logit.score(X_validate, y_validate)))"
   ],
   "metadata": {
    "collapsed": false,
    "ExecuteTime": {
     "start_time": "2023-04-24T13:40:42.989915Z",
     "end_time": "2023-04-24T13:40:43.703997Z"
    }
   }
  },
  {
   "cell_type": "markdown",
   "source": [
    "# <span style=\"color:blue\">Current Model Takeaways</span>"
   ],
   "metadata": {
    "collapsed": false
   }
  },
  {
   "cell_type": "markdown",
   "source": [
    "#### model 1 is better than baseline\n",
    "#### with a 79% accuracy\n"
   ],
   "metadata": {
    "collapsed": false
   }
  },
  {
   "cell_type": "markdown",
   "source": [
    "# <span style=\"color:blue\">Model 2</span>\n",
    "#### This model will have survived, age, fare, pclass, sex, and alone"
   ],
   "metadata": {
    "collapsed": false
   }
  },
  {
   "cell_type": "code",
   "execution_count": 1040,
   "outputs": [
    {
     "name": "stdout",
     "output_type": "stream",
     "text": [
      "csv file found and loaded\n"
     ]
    }
   ],
   "source": [
    "df2 = acquire.get_titanic_data()"
   ],
   "metadata": {
    "collapsed": false,
    "ExecuteTime": {
     "start_time": "2023-04-24T13:40:43.024858Z",
     "end_time": "2023-04-24T13:40:43.706532Z"
    }
   }
  },
  {
   "cell_type": "markdown",
   "source": [
    "# <span style=\"color:blue\">Prepare Data</span>"
   ],
   "metadata": {
    "collapsed": false
   }
  },
  {
   "cell_type": "code",
   "execution_count": 1041,
   "outputs": [],
   "source": [
    "df2 = df2.drop(columns=['passenger_id', 'sibsp', 'parch', 'embarked', 'class', 'deck', 'embark_town'])"
   ],
   "metadata": {
    "collapsed": false,
    "ExecuteTime": {
     "start_time": "2023-04-24T13:40:43.037934Z",
     "end_time": "2023-04-24T13:40:43.732587Z"
    }
   }
  },
  {
   "cell_type": "code",
   "execution_count": 1042,
   "outputs": [
    {
     "data": {
      "text/plain": "survived      int64\npclass        int64\nsex          object\nage         float64\nfare        float64\nalone         int64\ndtype: object"
     },
     "execution_count": 1042,
     "metadata": {},
     "output_type": "execute_result"
    }
   ],
   "source": [
    "df2.dtypes"
   ],
   "metadata": {
    "collapsed": false,
    "ExecuteTime": {
     "start_time": "2023-04-24T13:40:43.040768Z",
     "end_time": "2023-04-24T13:40:43.732725Z"
    }
   }
  },
  {
   "cell_type": "code",
   "execution_count": 1043,
   "outputs": [],
   "source": [
    "# split data\n",
    "X2 = df2.drop(columns=['survived'])\n",
    "Y2 = df2[['survived']]\n",
    "X2.alone = X2.alone.astype('object')\n",
    "X2.age = X2.age.fillna(X2.age.mean())\n",
    "cat = X2.select_dtypes(include='object')\n",
    "num = X2.select_dtypes(exclude='object')"
   ],
   "metadata": {
    "collapsed": false,
    "ExecuteTime": {
     "start_time": "2023-04-24T13:40:43.043618Z",
     "end_time": "2023-04-24T13:40:43.732750Z"
    }
   }
  },
  {
   "cell_type": "code",
   "execution_count": 1044,
   "outputs": [],
   "source": [
    "# create dummy variables\n",
    "cat = pd.get_dummies(cat, drop_first=True)"
   ],
   "metadata": {
    "collapsed": false,
    "ExecuteTime": {
     "start_time": "2023-04-24T13:40:43.046282Z",
     "end_time": "2023-04-24T13:40:43.732776Z"
    }
   }
  },
  {
   "cell_type": "code",
   "execution_count": 1045,
   "outputs": [],
   "source": [
    "#join back together\n",
    "X2 = pd.concat([num, cat], axis=1)"
   ],
   "metadata": {
    "collapsed": false,
    "ExecuteTime": {
     "start_time": "2023-04-24T13:40:43.050111Z",
     "end_time": "2023-04-24T13:40:43.741156Z"
    }
   }
  },
  {
   "cell_type": "code",
   "execution_count": 1046,
   "outputs": [
    {
     "data": {
      "text/plain": "     pclass        age     fare  sex_male  alone_1\n0         3  22.000000   7.2500         1        0\n1         1  38.000000  71.2833         0        0\n2         3  26.000000   7.9250         0        1\n3         1  35.000000  53.1000         0        0\n4         3  35.000000   8.0500         1        1\n..      ...        ...      ...       ...      ...\n886       2  27.000000  13.0000         1        1\n887       1  19.000000  30.0000         0        1\n888       3  29.699118  23.4500         0        0\n889       1  26.000000  30.0000         1        1\n890       3  32.000000   7.7500         1        1\n\n[891 rows x 5 columns]",
      "text/html": "<div>\n<style scoped>\n    .dataframe tbody tr th:only-of-type {\n        vertical-align: middle;\n    }\n\n    .dataframe tbody tr th {\n        vertical-align: top;\n    }\n\n    .dataframe thead th {\n        text-align: right;\n    }\n</style>\n<table border=\"1\" class=\"dataframe\">\n  <thead>\n    <tr style=\"text-align: right;\">\n      <th></th>\n      <th>pclass</th>\n      <th>age</th>\n      <th>fare</th>\n      <th>sex_male</th>\n      <th>alone_1</th>\n    </tr>\n  </thead>\n  <tbody>\n    <tr>\n      <th>0</th>\n      <td>3</td>\n      <td>22.000000</td>\n      <td>7.2500</td>\n      <td>1</td>\n      <td>0</td>\n    </tr>\n    <tr>\n      <th>1</th>\n      <td>1</td>\n      <td>38.000000</td>\n      <td>71.2833</td>\n      <td>0</td>\n      <td>0</td>\n    </tr>\n    <tr>\n      <th>2</th>\n      <td>3</td>\n      <td>26.000000</td>\n      <td>7.9250</td>\n      <td>0</td>\n      <td>1</td>\n    </tr>\n    <tr>\n      <th>3</th>\n      <td>1</td>\n      <td>35.000000</td>\n      <td>53.1000</td>\n      <td>0</td>\n      <td>0</td>\n    </tr>\n    <tr>\n      <th>4</th>\n      <td>3</td>\n      <td>35.000000</td>\n      <td>8.0500</td>\n      <td>1</td>\n      <td>1</td>\n    </tr>\n    <tr>\n      <th>...</th>\n      <td>...</td>\n      <td>...</td>\n      <td>...</td>\n      <td>...</td>\n      <td>...</td>\n    </tr>\n    <tr>\n      <th>886</th>\n      <td>2</td>\n      <td>27.000000</td>\n      <td>13.0000</td>\n      <td>1</td>\n      <td>1</td>\n    </tr>\n    <tr>\n      <th>887</th>\n      <td>1</td>\n      <td>19.000000</td>\n      <td>30.0000</td>\n      <td>0</td>\n      <td>1</td>\n    </tr>\n    <tr>\n      <th>888</th>\n      <td>3</td>\n      <td>29.699118</td>\n      <td>23.4500</td>\n      <td>0</td>\n      <td>0</td>\n    </tr>\n    <tr>\n      <th>889</th>\n      <td>1</td>\n      <td>26.000000</td>\n      <td>30.0000</td>\n      <td>1</td>\n      <td>1</td>\n    </tr>\n    <tr>\n      <th>890</th>\n      <td>3</td>\n      <td>32.000000</td>\n      <td>7.7500</td>\n      <td>1</td>\n      <td>1</td>\n    </tr>\n  </tbody>\n</table>\n<p>891 rows × 5 columns</p>\n</div>"
     },
     "execution_count": 1046,
     "metadata": {},
     "output_type": "execute_result"
    }
   ],
   "source": [
    "X2"
   ],
   "metadata": {
    "collapsed": false,
    "ExecuteTime": {
     "start_time": "2023-04-24T13:40:43.051284Z",
     "end_time": "2023-04-24T13:40:43.741257Z"
    }
   }
  },
  {
   "cell_type": "markdown",
   "source": [
    "# <span style=\"color:blue\">Baseline</span>"
   ],
   "metadata": {
    "collapsed": false
   }
  },
  {
   "cell_type": "code",
   "execution_count": 1047,
   "outputs": [
    {
     "name": "stdout",
     "output_type": "stream",
     "text": [
      "Baseline Prediction: 0\n",
      "Baseline Accuracy: 61.62%\n"
     ]
    }
   ],
   "source": [
    "Y2.survived.value_counts()\n",
    "baseline = Y2.survived.value_counts().max() / Y2.survived.value_counts().sum()\n",
    "print(f'Baseline Prediction: {Y2.survived.value_counts().idxmax()}')\n",
    "print(f'Baseline Accuracy: {baseline:.2%}')"
   ],
   "metadata": {
    "collapsed": false,
    "ExecuteTime": {
     "start_time": "2023-04-24T13:40:43.057448Z",
     "end_time": "2023-04-24T13:40:43.741307Z"
    }
   }
  },
  {
   "cell_type": "markdown",
   "source": [
    "# <span style=\"color:blue\">Convert to Train, Validate, Test</span>"
   ],
   "metadata": {
    "collapsed": false
   }
  },
  {
   "cell_type": "code",
   "execution_count": 1048,
   "outputs": [
    {
     "name": "stdout",
     "output_type": "stream",
     "text": [
      "Shape of Training Data (534, 5)\n",
      "Shape of Validation Data (178, 5)\n",
      "Shape of Testing Data (179, 5)\n",
      "Churn Rate in Training Data survived    0.383895\n",
      "dtype: float64\n",
      "Churn Rate in Validation Data survived    0.382022\n",
      "dtype: float64\n",
      "Churn Rate in Testing Data survived    0.385475\n",
      "dtype: float64\n"
     ]
    }
   ],
   "source": [
    "X_train, X_validate, X_test, y_train, y_validate, y_test = acquire.train_validate_test_split(X2, Y2)\n",
    "print(\"Shape of Training Data\", X_train.shape)\n",
    "print(\"Shape of Validation Data\", X_validate.shape)\n",
    "print(\"Shape of Testing Data\", X_test.shape)\n",
    "print(\"Churn Rate in Training Data\", y_train.mean())\n",
    "print(\"Churn Rate in Validation Data\", y_validate.mean())\n",
    "print(\"Churn Rate in Testing Data\", y_test.mean())"
   ],
   "metadata": {
    "collapsed": false,
    "ExecuteTime": {
     "start_time": "2023-04-24T13:40:43.065248Z",
     "end_time": "2023-04-24T13:40:43.743432Z"
    }
   }
  },
  {
   "cell_type": "markdown",
   "source": [
    "# <span style=\"color:blue\">Logistic Regression Model</span>"
   ],
   "metadata": {
    "collapsed": false
   }
  },
  {
   "cell_type": "code",
   "execution_count": 1049,
   "outputs": [],
   "source": [
    "# Create the object\n",
    "logit = LogisticRegression()"
   ],
   "metadata": {
    "collapsed": false,
    "ExecuteTime": {
     "start_time": "2023-04-24T13:40:43.076478Z",
     "end_time": "2023-04-24T13:40:43.758954Z"
    }
   }
  },
  {
   "cell_type": "code",
   "execution_count": 1050,
   "outputs": [
    {
     "data": {
      "text/plain": "LogisticRegression()",
      "text/html": "<style>#sk-container-id-60 {color: black;background-color: white;}#sk-container-id-60 pre{padding: 0;}#sk-container-id-60 div.sk-toggleable {background-color: white;}#sk-container-id-60 label.sk-toggleable__label {cursor: pointer;display: block;width: 100%;margin-bottom: 0;padding: 0.3em;box-sizing: border-box;text-align: center;}#sk-container-id-60 label.sk-toggleable__label-arrow:before {content: \"▸\";float: left;margin-right: 0.25em;color: #696969;}#sk-container-id-60 label.sk-toggleable__label-arrow:hover:before {color: black;}#sk-container-id-60 div.sk-estimator:hover label.sk-toggleable__label-arrow:before {color: black;}#sk-container-id-60 div.sk-toggleable__content {max-height: 0;max-width: 0;overflow: hidden;text-align: left;background-color: #f0f8ff;}#sk-container-id-60 div.sk-toggleable__content pre {margin: 0.2em;color: black;border-radius: 0.25em;background-color: #f0f8ff;}#sk-container-id-60 input.sk-toggleable__control:checked~div.sk-toggleable__content {max-height: 200px;max-width: 100%;overflow: auto;}#sk-container-id-60 input.sk-toggleable__control:checked~label.sk-toggleable__label-arrow:before {content: \"▾\";}#sk-container-id-60 div.sk-estimator input.sk-toggleable__control:checked~label.sk-toggleable__label {background-color: #d4ebff;}#sk-container-id-60 div.sk-label input.sk-toggleable__control:checked~label.sk-toggleable__label {background-color: #d4ebff;}#sk-container-id-60 input.sk-hidden--visually {border: 0;clip: rect(1px 1px 1px 1px);clip: rect(1px, 1px, 1px, 1px);height: 1px;margin: -1px;overflow: hidden;padding: 0;position: absolute;width: 1px;}#sk-container-id-60 div.sk-estimator {font-family: monospace;background-color: #f0f8ff;border: 1px dotted black;border-radius: 0.25em;box-sizing: border-box;margin-bottom: 0.5em;}#sk-container-id-60 div.sk-estimator:hover {background-color: #d4ebff;}#sk-container-id-60 div.sk-parallel-item::after {content: \"\";width: 100%;border-bottom: 1px solid gray;flex-grow: 1;}#sk-container-id-60 div.sk-label:hover label.sk-toggleable__label {background-color: #d4ebff;}#sk-container-id-60 div.sk-serial::before {content: \"\";position: absolute;border-left: 1px solid gray;box-sizing: border-box;top: 0;bottom: 0;left: 50%;z-index: 0;}#sk-container-id-60 div.sk-serial {display: flex;flex-direction: column;align-items: center;background-color: white;padding-right: 0.2em;padding-left: 0.2em;position: relative;}#sk-container-id-60 div.sk-item {position: relative;z-index: 1;}#sk-container-id-60 div.sk-parallel {display: flex;align-items: stretch;justify-content: center;background-color: white;position: relative;}#sk-container-id-60 div.sk-item::before, #sk-container-id-60 div.sk-parallel-item::before {content: \"\";position: absolute;border-left: 1px solid gray;box-sizing: border-box;top: 0;bottom: 0;left: 50%;z-index: -1;}#sk-container-id-60 div.sk-parallel-item {display: flex;flex-direction: column;z-index: 1;position: relative;background-color: white;}#sk-container-id-60 div.sk-parallel-item:first-child::after {align-self: flex-end;width: 50%;}#sk-container-id-60 div.sk-parallel-item:last-child::after {align-self: flex-start;width: 50%;}#sk-container-id-60 div.sk-parallel-item:only-child::after {width: 0;}#sk-container-id-60 div.sk-dashed-wrapped {border: 1px dashed gray;margin: 0 0.4em 0.5em 0.4em;box-sizing: border-box;padding-bottom: 0.4em;background-color: white;}#sk-container-id-60 div.sk-label label {font-family: monospace;font-weight: bold;display: inline-block;line-height: 1.2em;}#sk-container-id-60 div.sk-label-container {text-align: center;}#sk-container-id-60 div.sk-container {/* jupyter's `normalize.less` sets `[hidden] { display: none; }` but bootstrap.min.css set `[hidden] { display: none !important; }` so we also need the `!important` here to be able to override the default hidden behavior on the sphinx rendered scikit-learn.org. See: https://github.com/scikit-learn/scikit-learn/issues/21755 */display: inline-block !important;position: relative;}#sk-container-id-60 div.sk-text-repr-fallback {display: none;}</style><div id=\"sk-container-id-60\" class=\"sk-top-container\"><div class=\"sk-text-repr-fallback\"><pre>LogisticRegression()</pre><b>In a Jupyter environment, please rerun this cell to show the HTML representation or trust the notebook. <br />On GitHub, the HTML representation is unable to render, please try loading this page with nbviewer.org.</b></div><div class=\"sk-container\" hidden><div class=\"sk-item\"><div class=\"sk-estimator sk-toggleable\"><input class=\"sk-toggleable__control sk-hidden--visually\" id=\"sk-estimator-id-60\" type=\"checkbox\" checked><label for=\"sk-estimator-id-60\" class=\"sk-toggleable__label sk-toggleable__label-arrow\">LogisticRegression</label><div class=\"sk-toggleable__content\"><pre>LogisticRegression()</pre></div></div></div></div></div>"
     },
     "execution_count": 1050,
     "metadata": {},
     "output_type": "execute_result"
    }
   ],
   "source": [
    "# Fit the object\n",
    "logit.fit(X_train, y_train)"
   ],
   "metadata": {
    "collapsed": false,
    "ExecuteTime": {
     "start_time": "2023-04-24T13:40:43.079175Z",
     "end_time": "2023-04-24T13:40:43.759045Z"
    }
   }
  },
  {
   "cell_type": "code",
   "execution_count": 1051,
   "outputs": [
    {
     "name": "stdout",
     "output_type": "stream",
     "text": [
      "Coefficient: \n",
      " [[-1.14926935e+00 -2.80932791e-02 -1.02372060e-03 -2.60244800e+00\n",
      "   1.36618628e-02]]\n",
      "Intercept: \n",
      " [4.57843775]\n"
     ]
    }
   ],
   "source": [
    "# Feacture Importance\n",
    "print('Coefficient: \\n', logit.coef_)\n",
    "print('Intercept: \\n', logit.intercept_)"
   ],
   "metadata": {
    "collapsed": false,
    "ExecuteTime": {
     "start_time": "2023-04-24T13:40:43.084783Z",
     "end_time": "2023-04-24T13:40:43.759085Z"
    }
   }
  },
  {
   "cell_type": "code",
   "execution_count": 1052,
   "outputs": [],
   "source": [
    "# Make predictions\n",
    "y_pred = logit.predict(X_train)"
   ],
   "metadata": {
    "collapsed": false,
    "ExecuteTime": {
     "start_time": "2023-04-24T13:40:43.087124Z",
     "end_time": "2023-04-24T13:40:43.776236Z"
    }
   }
  },
  {
   "cell_type": "markdown",
   "source": [
    "# <span style=\"color:blue\">Evaluate Model</span>"
   ],
   "metadata": {
    "collapsed": false
   }
  },
  {
   "cell_type": "code",
   "execution_count": 1053,
   "outputs": [],
   "source": [
    "# Estimate probability\n",
    "y_pred_proba = logit.predict_proba(X_train)"
   ],
   "metadata": {
    "collapsed": false,
    "ExecuteTime": {
     "start_time": "2023-04-24T13:40:43.090133Z",
     "end_time": "2023-04-24T13:40:43.776282Z"
    }
   }
  },
  {
   "cell_type": "code",
   "execution_count": 1054,
   "outputs": [
    {
     "name": "stdout",
     "output_type": "stream",
     "text": [
      "Accuracy of Logistic Regression classifier on training set: 0.81\n"
     ]
    }
   ],
   "source": [
    "# Accuracy\n",
    "print('Accuracy of Logistic Regression classifier on training set: {:.2f}'\n",
    "     .format(logit.score(X_train, y_train)))"
   ],
   "metadata": {
    "collapsed": false,
    "ExecuteTime": {
     "start_time": "2023-04-24T13:40:43.092513Z",
     "end_time": "2023-04-24T13:40:43.776331Z"
    }
   }
  },
  {
   "cell_type": "code",
   "execution_count": 1055,
   "outputs": [
    {
     "name": "stdout",
     "output_type": "stream",
     "text": [
      "[[283  46]\n",
      " [ 56 149]]\n"
     ]
    }
   ],
   "source": [
    "# Confusion Matrix\n",
    "from sklearn.metrics import confusion_matrix\n",
    "confusion_matrix = confusion_matrix(y_train, y_pred)\n",
    "print(confusion_matrix)"
   ],
   "metadata": {
    "collapsed": false,
    "ExecuteTime": {
     "start_time": "2023-04-24T13:40:43.095329Z",
     "end_time": "2023-04-24T13:40:43.776375Z"
    }
   }
  },
  {
   "cell_type": "code",
   "execution_count": 1056,
   "outputs": [
    {
     "name": "stdout",
     "output_type": "stream",
     "text": [
      "              precision    recall  f1-score   support\n",
      "\n",
      "           0       0.83      0.86      0.85       329\n",
      "           1       0.76      0.73      0.74       205\n",
      "\n",
      "    accuracy                           0.81       534\n",
      "   macro avg       0.80      0.79      0.80       534\n",
      "weighted avg       0.81      0.81      0.81       534\n",
      "\n"
     ]
    }
   ],
   "source": [
    "# Classification Report\n",
    "from sklearn.metrics import classification_report\n",
    "print(classification_report(y_train, y_pred))\n"
   ],
   "metadata": {
    "collapsed": false,
    "ExecuteTime": {
     "start_time": "2023-04-24T13:40:43.098018Z",
     "end_time": "2023-04-24T13:40:43.776420Z"
    }
   }
  },
  {
   "cell_type": "code",
   "execution_count": 1057,
   "outputs": [
    {
     "name": "stdout",
     "output_type": "stream",
     "text": [
      "Accuracy of Logistic Regression classifier on validation set: 0.78\n"
     ]
    }
   ],
   "source": [
    "# Accuracy\n",
    "print('Accuracy of Logistic Regression classifier on validation set: {:.2f}'\n",
    "     .format(logit.score(X_validate, y_validate)))\n"
   ],
   "metadata": {
    "collapsed": false,
    "ExecuteTime": {
     "start_time": "2023-04-24T13:40:43.103866Z",
     "end_time": "2023-04-24T13:40:43.776458Z"
    }
   }
  },
  {
   "cell_type": "markdown",
   "source": [
    "# <span style=\"color:blue\">Current Model Takeaways</span>\n",
    "#### model 2 is better than baseline\n",
    "#### with a 79% accuracy"
   ],
   "metadata": {
    "collapsed": false
   }
  },
  {
   "cell_type": "markdown",
   "source": [
    "# <span style=\"color:blue\">Model 3</span>\n",
    "#### Using the same features as model 2, but with embarked"
   ],
   "metadata": {
    "collapsed": false
   }
  },
  {
   "cell_type": "code",
   "execution_count": 1058,
   "outputs": [
    {
     "name": "stdout",
     "output_type": "stream",
     "text": [
      "csv file found and loaded\n"
     ]
    }
   ],
   "source": [
    "df3 = acquire.get_titanic_data()"
   ],
   "metadata": {
    "collapsed": false,
    "ExecuteTime": {
     "start_time": "2023-04-24T13:40:43.114590Z",
     "end_time": "2023-04-24T13:40:43.810818Z"
    }
   }
  },
  {
   "cell_type": "code",
   "execution_count": 1059,
   "outputs": [],
   "source": [
    "df3 = df3.drop(columns=['passenger_id', 'sibsp', 'parch', 'class', 'deck', 'embark_town'])"
   ],
   "metadata": {
    "collapsed": false,
    "ExecuteTime": {
     "start_time": "2023-04-24T13:40:43.118831Z",
     "end_time": "2023-04-24T13:40:43.810869Z"
    }
   }
  },
  {
   "cell_type": "code",
   "execution_count": 1060,
   "outputs": [
    {
     "data": {
      "text/plain": "survived      int64\npclass        int64\nsex          object\nage         float64\nfare        float64\nembarked     object\nalone         int64\ndtype: object"
     },
     "execution_count": 1060,
     "metadata": {},
     "output_type": "execute_result"
    }
   ],
   "source": [
    "df3.dtypes"
   ],
   "metadata": {
    "collapsed": false,
    "ExecuteTime": {
     "start_time": "2023-04-24T13:40:43.121074Z",
     "end_time": "2023-04-24T13:40:43.810973Z"
    }
   }
  },
  {
   "cell_type": "code",
   "execution_count": 1061,
   "outputs": [],
   "source": [
    "# split data\n",
    "X3 = df3.drop(columns=['survived'])\n",
    "Y3 = df3[['survived']]\n",
    "X3.alone = X3.alone.astype('object')\n",
    "X3.pclass = X3.pclass.astype('object')\n",
    "X3.age = X3.age.fillna(X3.age.mean())\n",
    "cat = X3.select_dtypes(include='object')\n",
    "num = X3.select_dtypes(exclude='object')"
   ],
   "metadata": {
    "collapsed": false,
    "ExecuteTime": {
     "start_time": "2023-04-24T13:40:43.124382Z",
     "end_time": "2023-04-24T13:40:43.813173Z"
    }
   }
  },
  {
   "cell_type": "code",
   "execution_count": 1062,
   "outputs": [],
   "source": [
    "# create dummy variables\n",
    "cat = pd.get_dummies(cat, drop_first=True)"
   ],
   "metadata": {
    "collapsed": false,
    "ExecuteTime": {
     "start_time": "2023-04-24T13:40:43.127628Z",
     "end_time": "2023-04-24T13:40:43.813198Z"
    }
   }
  },
  {
   "cell_type": "code",
   "execution_count": 1063,
   "outputs": [],
   "source": [
    "#join back together\n",
    "X3 = pd.concat([num, cat], axis=1)"
   ],
   "metadata": {
    "collapsed": false,
    "ExecuteTime": {
     "start_time": "2023-04-24T13:40:43.130830Z",
     "end_time": "2023-04-24T13:40:43.813221Z"
    }
   }
  },
  {
   "cell_type": "markdown",
   "source": [
    "# <span style=\"color:blue\">Baseline</span>"
   ],
   "metadata": {
    "collapsed": false
   }
  },
  {
   "cell_type": "code",
   "execution_count": 1064,
   "outputs": [
    {
     "name": "stdout",
     "output_type": "stream",
     "text": [
      "Baseline Prediction: 0\n",
      "Baseline Accuracy: 61.62%\n"
     ]
    }
   ],
   "source": [
    "# Baseline\n",
    "Y3.survived.value_counts()\n",
    "baseline = Y3.survived.value_counts().max() / Y3.survived.value_counts().sum()\n",
    "print(f'Baseline Prediction: {Y3.survived.value_counts().idxmax()}')\n",
    "print(f'Baseline Accuracy: {baseline:.2%}')"
   ],
   "metadata": {
    "collapsed": false,
    "ExecuteTime": {
     "start_time": "2023-04-24T13:40:43.133836Z",
     "end_time": "2023-04-24T13:40:43.813264Z"
    }
   }
  },
  {
   "cell_type": "markdown",
   "source": [
    "# <span style=\"color:blue\">Convert to Train, Validate, Test</span>"
   ],
   "metadata": {
    "collapsed": false
   }
  },
  {
   "cell_type": "code",
   "execution_count": 1065,
   "outputs": [
    {
     "name": "stdout",
     "output_type": "stream",
     "text": [
      "Shape of Training Data (534, 8)\n",
      "Shape of Validation Data (178, 8)\n",
      "Shape of Testing Data (179, 8)\n",
      "Churn Rate in Training Data survived    0.383895\n",
      "dtype: float64\n",
      "Churn Rate in Validation Data survived    0.382022\n",
      "dtype: float64\n",
      "Churn Rate in Testing Data survived    0.385475\n",
      "dtype: float64\n"
     ]
    }
   ],
   "source": [
    "X_train, X_validate, X_test, y_train, y_validate, y_test = acquire.train_validate_test_split(X3, Y3)\n",
    "print(\"Shape of Training Data\", X_train.shape)\n",
    "print(\"Shape of Validation Data\", X_validate.shape)\n",
    "print(\"Shape of Testing Data\", X_test.shape)\n",
    "print(\"Churn Rate in Training Data\", y_train.mean())\n",
    "print(\"Churn Rate in Validation Data\", y_validate.mean())\n",
    "print(\"Churn Rate in Testing Data\", y_test.mean())\n"
   ],
   "metadata": {
    "collapsed": false,
    "ExecuteTime": {
     "start_time": "2023-04-24T13:40:43.141902Z",
     "end_time": "2023-04-24T13:40:43.815350Z"
    }
   }
  },
  {
   "cell_type": "markdown",
   "source": [
    "# <span style=\"color:blue\">Logistic Regression Model</span>"
   ],
   "metadata": {
    "collapsed": false
   }
  },
  {
   "cell_type": "code",
   "execution_count": 1066,
   "outputs": [],
   "source": [
    "# Create the object\n",
    "logit = LogisticRegression()"
   ],
   "metadata": {
    "collapsed": false,
    "ExecuteTime": {
     "start_time": "2023-04-24T13:40:43.153255Z",
     "end_time": "2023-04-24T13:40:43.830672Z"
    }
   }
  },
  {
   "cell_type": "code",
   "execution_count": 1067,
   "outputs": [
    {
     "data": {
      "text/plain": "LogisticRegression()",
      "text/html": "<style>#sk-container-id-61 {color: black;background-color: white;}#sk-container-id-61 pre{padding: 0;}#sk-container-id-61 div.sk-toggleable {background-color: white;}#sk-container-id-61 label.sk-toggleable__label {cursor: pointer;display: block;width: 100%;margin-bottom: 0;padding: 0.3em;box-sizing: border-box;text-align: center;}#sk-container-id-61 label.sk-toggleable__label-arrow:before {content: \"▸\";float: left;margin-right: 0.25em;color: #696969;}#sk-container-id-61 label.sk-toggleable__label-arrow:hover:before {color: black;}#sk-container-id-61 div.sk-estimator:hover label.sk-toggleable__label-arrow:before {color: black;}#sk-container-id-61 div.sk-toggleable__content {max-height: 0;max-width: 0;overflow: hidden;text-align: left;background-color: #f0f8ff;}#sk-container-id-61 div.sk-toggleable__content pre {margin: 0.2em;color: black;border-radius: 0.25em;background-color: #f0f8ff;}#sk-container-id-61 input.sk-toggleable__control:checked~div.sk-toggleable__content {max-height: 200px;max-width: 100%;overflow: auto;}#sk-container-id-61 input.sk-toggleable__control:checked~label.sk-toggleable__label-arrow:before {content: \"▾\";}#sk-container-id-61 div.sk-estimator input.sk-toggleable__control:checked~label.sk-toggleable__label {background-color: #d4ebff;}#sk-container-id-61 div.sk-label input.sk-toggleable__control:checked~label.sk-toggleable__label {background-color: #d4ebff;}#sk-container-id-61 input.sk-hidden--visually {border: 0;clip: rect(1px 1px 1px 1px);clip: rect(1px, 1px, 1px, 1px);height: 1px;margin: -1px;overflow: hidden;padding: 0;position: absolute;width: 1px;}#sk-container-id-61 div.sk-estimator {font-family: monospace;background-color: #f0f8ff;border: 1px dotted black;border-radius: 0.25em;box-sizing: border-box;margin-bottom: 0.5em;}#sk-container-id-61 div.sk-estimator:hover {background-color: #d4ebff;}#sk-container-id-61 div.sk-parallel-item::after {content: \"\";width: 100%;border-bottom: 1px solid gray;flex-grow: 1;}#sk-container-id-61 div.sk-label:hover label.sk-toggleable__label {background-color: #d4ebff;}#sk-container-id-61 div.sk-serial::before {content: \"\";position: absolute;border-left: 1px solid gray;box-sizing: border-box;top: 0;bottom: 0;left: 50%;z-index: 0;}#sk-container-id-61 div.sk-serial {display: flex;flex-direction: column;align-items: center;background-color: white;padding-right: 0.2em;padding-left: 0.2em;position: relative;}#sk-container-id-61 div.sk-item {position: relative;z-index: 1;}#sk-container-id-61 div.sk-parallel {display: flex;align-items: stretch;justify-content: center;background-color: white;position: relative;}#sk-container-id-61 div.sk-item::before, #sk-container-id-61 div.sk-parallel-item::before {content: \"\";position: absolute;border-left: 1px solid gray;box-sizing: border-box;top: 0;bottom: 0;left: 50%;z-index: -1;}#sk-container-id-61 div.sk-parallel-item {display: flex;flex-direction: column;z-index: 1;position: relative;background-color: white;}#sk-container-id-61 div.sk-parallel-item:first-child::after {align-self: flex-end;width: 50%;}#sk-container-id-61 div.sk-parallel-item:last-child::after {align-self: flex-start;width: 50%;}#sk-container-id-61 div.sk-parallel-item:only-child::after {width: 0;}#sk-container-id-61 div.sk-dashed-wrapped {border: 1px dashed gray;margin: 0 0.4em 0.5em 0.4em;box-sizing: border-box;padding-bottom: 0.4em;background-color: white;}#sk-container-id-61 div.sk-label label {font-family: monospace;font-weight: bold;display: inline-block;line-height: 1.2em;}#sk-container-id-61 div.sk-label-container {text-align: center;}#sk-container-id-61 div.sk-container {/* jupyter's `normalize.less` sets `[hidden] { display: none; }` but bootstrap.min.css set `[hidden] { display: none !important; }` so we also need the `!important` here to be able to override the default hidden behavior on the sphinx rendered scikit-learn.org. See: https://github.com/scikit-learn/scikit-learn/issues/21755 */display: inline-block !important;position: relative;}#sk-container-id-61 div.sk-text-repr-fallback {display: none;}</style><div id=\"sk-container-id-61\" class=\"sk-top-container\"><div class=\"sk-text-repr-fallback\"><pre>LogisticRegression()</pre><b>In a Jupyter environment, please rerun this cell to show the HTML representation or trust the notebook. <br />On GitHub, the HTML representation is unable to render, please try loading this page with nbviewer.org.</b></div><div class=\"sk-container\" hidden><div class=\"sk-item\"><div class=\"sk-estimator sk-toggleable\"><input class=\"sk-toggleable__control sk-hidden--visually\" id=\"sk-estimator-id-61\" type=\"checkbox\" checked><label for=\"sk-estimator-id-61\" class=\"sk-toggleable__label sk-toggleable__label-arrow\">LogisticRegression</label><div class=\"sk-toggleable__content\"><pre>LogisticRegression()</pre></div></div></div></div></div>"
     },
     "execution_count": 1067,
     "metadata": {},
     "output_type": "execute_result"
    }
   ],
   "source": [
    "# Fit the object\n",
    "logit.fit(X_train, y_train)"
   ],
   "metadata": {
    "collapsed": false,
    "ExecuteTime": {
     "start_time": "2023-04-24T13:40:43.155878Z",
     "end_time": "2023-04-24T13:40:43.830770Z"
    }
   }
  },
  {
   "cell_type": "code",
   "execution_count": 1068,
   "outputs": [
    {
     "name": "stdout",
     "output_type": "stream",
     "text": [
      "Coefficient: \n",
      " [[-2.40959439e-02 -1.24942561e-05 -6.35313892e-01 -2.05092650e+00\n",
      "  -2.51086224e+00  4.98020743e-01 -3.69600519e-01 -2.50766412e-02]]\n",
      "Intercept: \n",
      " [3.20429613]\n"
     ]
    }
   ],
   "source": [
    "# Feacture Importance\n",
    "print('Coefficient: \\n', logit.coef_)\n",
    "print('Intercept: \\n', logit.intercept_)\n"
   ],
   "metadata": {
    "collapsed": false,
    "ExecuteTime": {
     "start_time": "2023-04-24T13:40:43.164015Z",
     "end_time": "2023-04-24T13:40:43.849799Z"
    }
   }
  },
  {
   "cell_type": "code",
   "execution_count": 1069,
   "outputs": [],
   "source": [
    "# Make predictions\n",
    "y_pred = logit.predict(X_train)"
   ],
   "metadata": {
    "collapsed": false,
    "ExecuteTime": {
     "start_time": "2023-04-24T13:40:43.166491Z",
     "end_time": "2023-04-24T13:40:43.849851Z"
    }
   }
  },
  {
   "cell_type": "markdown",
   "source": [
    "# <span style=\"color:blue\">Evaluate Model</span>"
   ],
   "metadata": {
    "collapsed": false
   }
  },
  {
   "cell_type": "code",
   "execution_count": 1070,
   "outputs": [],
   "source": [
    "# Estimate probability\n",
    "y_pred_proba = logit.predict_proba(X_train)"
   ],
   "metadata": {
    "collapsed": false,
    "ExecuteTime": {
     "start_time": "2023-04-24T13:40:43.169529Z",
     "end_time": "2023-04-24T13:40:43.849880Z"
    }
   }
  },
  {
   "cell_type": "code",
   "execution_count": 1071,
   "outputs": [
    {
     "name": "stdout",
     "output_type": "stream",
     "text": [
      "Accuracy of Logistic Regression classifier on training set: 0.80\n"
     ]
    }
   ],
   "source": [
    "# Accuracy\n",
    "print('Accuracy of Logistic Regression classifier on training set: {:.2f}'\n",
    "     .format(logit.score(X_train, y_train)))"
   ],
   "metadata": {
    "collapsed": false,
    "ExecuteTime": {
     "start_time": "2023-04-24T13:40:43.172162Z",
     "end_time": "2023-04-24T13:40:43.849956Z"
    }
   }
  },
  {
   "cell_type": "code",
   "execution_count": 1072,
   "outputs": [
    {
     "name": "stdout",
     "output_type": "stream",
     "text": [
      "[[284  45]\n",
      " [ 60 145]]\n"
     ]
    }
   ],
   "source": [
    "# Confusion Matrix\n",
    "from sklearn.metrics import confusion_matrix\n",
    "confusion_matrix = confusion_matrix(y_train, y_pred)\n",
    "print(confusion_matrix)"
   ],
   "metadata": {
    "collapsed": false,
    "ExecuteTime": {
     "start_time": "2023-04-24T13:40:43.174348Z",
     "end_time": "2023-04-24T13:40:43.849993Z"
    }
   }
  },
  {
   "cell_type": "code",
   "execution_count": 1073,
   "outputs": [
    {
     "name": "stdout",
     "output_type": "stream",
     "text": [
      "Accuracy of Logistic Regression classifier on validation set: 0.78\n"
     ]
    }
   ],
   "source": [
    "# validate\n",
    "# Accuracy\n",
    "y_pred = logit.predict(X_validate)\n",
    "print('Accuracy of Logistic Regression classifier on validation set: {:.2f}'\n",
    "     .format(logit.score(X_validate, y_validate)))\n"
   ],
   "metadata": {
    "collapsed": false,
    "ExecuteTime": {
     "start_time": "2023-04-24T13:40:43.178241Z",
     "end_time": "2023-04-24T13:40:43.850041Z"
    }
   }
  },
  {
   "cell_type": "code",
   "execution_count": 1074,
   "outputs": [
    {
     "name": "stdout",
     "output_type": "stream",
     "text": [
      "[[94 16]\n",
      " [23 45]]\n"
     ]
    }
   ],
   "source": [
    "# Confusion Matrix\n",
    "from sklearn.metrics import confusion_matrix\n",
    "confusion_matrix = confusion_matrix(y_validate, y_pred)\n",
    "print(confusion_matrix)"
   ],
   "metadata": {
    "collapsed": false,
    "ExecuteTime": {
     "start_time": "2023-04-24T13:40:43.180664Z",
     "end_time": "2023-04-24T13:40:43.850084Z"
    }
   }
  },
  {
   "cell_type": "code",
   "execution_count": 1075,
   "outputs": [
    {
     "name": "stdout",
     "output_type": "stream",
     "text": [
      "              precision    recall  f1-score   support\n",
      "\n",
      "           0       0.80      0.85      0.83       110\n",
      "           1       0.74      0.66      0.70        68\n",
      "\n",
      "    accuracy                           0.78       178\n",
      "   macro avg       0.77      0.76      0.76       178\n",
      "weighted avg       0.78      0.78      0.78       178\n",
      "\n"
     ]
    }
   ],
   "source": [
    "# Classification Report\n",
    "from sklearn.metrics import classification_report\n",
    "print(classification_report(y_validate, y_pred))"
   ],
   "metadata": {
    "collapsed": false,
    "ExecuteTime": {
     "start_time": "2023-04-24T13:40:43.183554Z",
     "end_time": "2023-04-24T13:40:43.850121Z"
    }
   }
  },
  {
   "cell_type": "markdown",
   "source": [
    "# <span style=\"color:blue\">Current Model Takeaways</span>"
   ],
   "metadata": {
    "collapsed": false
   }
  },
  {
   "cell_type": "markdown",
   "source": [
    "# <span style=\"color:blue\">Model 4</span>"
   ],
   "metadata": {
    "collapsed": false
   }
  },
  {
   "cell_type": "code",
   "execution_count": 1076,
   "outputs": [
    {
     "name": "stdout",
     "output_type": "stream",
     "text": [
      "csv file found and loaded\n"
     ]
    }
   ],
   "source": [
    "df4 = acquire.get_titanic_data()"
   ],
   "metadata": {
    "collapsed": false,
    "ExecuteTime": {
     "start_time": "2023-04-24T13:40:43.191831Z",
     "end_time": "2023-04-24T13:40:43.884128Z"
    }
   }
  },
  {
   "cell_type": "code",
   "execution_count": 1077,
   "outputs": [],
   "source": [
    "df4 = df4.drop(columns=['passenger_id', 'class', 'embark_town'])"
   ],
   "metadata": {
    "collapsed": false,
    "ExecuteTime": {
     "start_time": "2023-04-24T13:40:43.195527Z",
     "end_time": "2023-04-24T13:40:43.884177Z"
    }
   }
  },
  {
   "cell_type": "code",
   "execution_count": 1078,
   "outputs": [
    {
     "data": {
      "text/plain": "survived      int64\npclass        int64\nsex          object\nage         float64\nsibsp         int64\nparch         int64\nfare        float64\nembarked     object\ndeck         object\nalone         int64\ndtype: object"
     },
     "execution_count": 1078,
     "metadata": {},
     "output_type": "execute_result"
    }
   ],
   "source": [
    "df4.dtypes"
   ],
   "metadata": {
    "collapsed": false,
    "ExecuteTime": {
     "start_time": "2023-04-24T13:40:43.197787Z",
     "end_time": "2023-04-24T13:40:43.884262Z"
    }
   }
  },
  {
   "cell_type": "code",
   "execution_count": 1079,
   "outputs": [],
   "source": [
    "# split data\n",
    "X4 = df4.drop(columns=['survived'])\n",
    "Y4 = df4[['survived']]\n",
    "X4.alone = X4.alone.astype('object')\n",
    "X4.parch = X4.parch.astype('object')\n",
    "X4.sibsp = X4.sibsp.astype('object')\n",
    "\n",
    "cat = X4.select_dtypes(include='object')\n",
    "num = X4.select_dtypes(exclude='object')"
   ],
   "metadata": {
    "collapsed": false,
    "ExecuteTime": {
     "start_time": "2023-04-24T13:40:43.201329Z",
     "end_time": "2023-04-24T13:40:43.925476Z"
    }
   }
  },
  {
   "cell_type": "code",
   "execution_count": 1080,
   "outputs": [],
   "source": [
    "num.age.fillna(22, inplace=True)"
   ],
   "metadata": {
    "collapsed": false,
    "ExecuteTime": {
     "start_time": "2023-04-24T13:40:43.204277Z",
     "end_time": "2023-04-24T13:40:43.925545Z"
    }
   }
  },
  {
   "cell_type": "code",
   "execution_count": 1081,
   "outputs": [],
   "source": [
    "# create dummy variables\n",
    "cat = pd.get_dummies(cat, drop_first=True)"
   ],
   "metadata": {
    "collapsed": false,
    "ExecuteTime": {
     "start_time": "2023-04-24T13:40:43.206811Z",
     "end_time": "2023-04-24T13:40:43.925575Z"
    }
   }
  },
  {
   "cell_type": "code",
   "execution_count": 1082,
   "outputs": [],
   "source": [
    "#join back together\n",
    "X4 = pd.concat([num, cat], axis=1)"
   ],
   "metadata": {
    "collapsed": false,
    "ExecuteTime": {
     "start_time": "2023-04-24T13:40:43.209306Z",
     "end_time": "2023-04-24T13:40:43.925597Z"
    }
   }
  },
  {
   "cell_type": "code",
   "execution_count": 1083,
   "outputs": [
    {
     "name": "stdout",
     "output_type": "stream",
     "text": [
      "Baseline Prediction: 0\n",
      "Baseline Accuracy: 61.62%\n"
     ]
    }
   ],
   "source": [
    "# Baseline\n",
    "Y4.survived.value_counts()\n",
    "baseline = Y4.survived.value_counts().max() / Y4.survived.value_counts().sum()\n",
    "print(f'Baseline Prediction: {Y4.survived.value_counts().idxmax()}')\n",
    "print(f'Baseline Accuracy: {baseline:.2%}')\n"
   ],
   "metadata": {
    "collapsed": false,
    "ExecuteTime": {
     "start_time": "2023-04-24T13:40:43.212920Z",
     "end_time": "2023-04-24T13:40:43.925650Z"
    }
   }
  },
  {
   "cell_type": "code",
   "execution_count": 1084,
   "outputs": [],
   "source": [
    "# Convert to Train, Validate, Test"
   ],
   "metadata": {
    "collapsed": false,
    "ExecuteTime": {
     "start_time": "2023-04-24T13:40:43.214639Z",
     "end_time": "2023-04-24T13:40:43.927709Z"
    }
   }
  },
  {
   "cell_type": "code",
   "execution_count": 1085,
   "outputs": [
    {
     "name": "stdout",
     "output_type": "stream",
     "text": [
      "Shape of Training Data (534, 25)\n",
      "Shape of Validation Data (178, 25)\n",
      "Shape of Testing Data (179, 25)\n",
      "Churn Rate in Training Data survived    0.383895\n",
      "dtype: float64\n",
      "Churn Rate in Validation Data survived    0.382022\n",
      "dtype: float64\n",
      "Churn Rate in Testing Data survived    0.385475\n",
      "dtype: float64\n"
     ]
    }
   ],
   "source": [
    "X_train, X_validate, X_test, y_train, y_validate, y_test = acquire.train_validate_test_split(X4, Y4)\n",
    "print(\"Shape of Training Data\", X_train.shape)\n",
    "print(\"Shape of Validation Data\", X_validate.shape)\n",
    "print(\"Shape of Testing Data\", X_test.shape)\n",
    "print(\"Churn Rate in Training Data\", y_train.mean())\n",
    "print(\"Churn Rate in Validation Data\", y_validate.mean())\n",
    "print(\"Churn Rate in Testing Data\", y_test.mean())\n"
   ],
   "metadata": {
    "collapsed": false,
    "ExecuteTime": {
     "start_time": "2023-04-24T13:40:43.218886Z",
     "end_time": "2023-04-24T13:40:43.927753Z"
    }
   }
  },
  {
   "cell_type": "markdown",
   "source": [
    "# <span style=\"color:blue\">Logistic Regression Model</span>"
   ],
   "metadata": {
    "collapsed": false
   }
  },
  {
   "cell_type": "code",
   "execution_count": 1086,
   "outputs": [],
   "source": [
    "# Create the object\n",
    "logit = LogisticRegression()"
   ],
   "metadata": {
    "collapsed": false,
    "ExecuteTime": {
     "start_time": "2023-04-24T13:40:43.224379Z",
     "end_time": "2023-04-24T13:40:43.927771Z"
    }
   }
  },
  {
   "cell_type": "code",
   "execution_count": 1087,
   "outputs": [
    {
     "data": {
      "text/plain": "LogisticRegression()",
      "text/html": "<style>#sk-container-id-62 {color: black;background-color: white;}#sk-container-id-62 pre{padding: 0;}#sk-container-id-62 div.sk-toggleable {background-color: white;}#sk-container-id-62 label.sk-toggleable__label {cursor: pointer;display: block;width: 100%;margin-bottom: 0;padding: 0.3em;box-sizing: border-box;text-align: center;}#sk-container-id-62 label.sk-toggleable__label-arrow:before {content: \"▸\";float: left;margin-right: 0.25em;color: #696969;}#sk-container-id-62 label.sk-toggleable__label-arrow:hover:before {color: black;}#sk-container-id-62 div.sk-estimator:hover label.sk-toggleable__label-arrow:before {color: black;}#sk-container-id-62 div.sk-toggleable__content {max-height: 0;max-width: 0;overflow: hidden;text-align: left;background-color: #f0f8ff;}#sk-container-id-62 div.sk-toggleable__content pre {margin: 0.2em;color: black;border-radius: 0.25em;background-color: #f0f8ff;}#sk-container-id-62 input.sk-toggleable__control:checked~div.sk-toggleable__content {max-height: 200px;max-width: 100%;overflow: auto;}#sk-container-id-62 input.sk-toggleable__control:checked~label.sk-toggleable__label-arrow:before {content: \"▾\";}#sk-container-id-62 div.sk-estimator input.sk-toggleable__control:checked~label.sk-toggleable__label {background-color: #d4ebff;}#sk-container-id-62 div.sk-label input.sk-toggleable__control:checked~label.sk-toggleable__label {background-color: #d4ebff;}#sk-container-id-62 input.sk-hidden--visually {border: 0;clip: rect(1px 1px 1px 1px);clip: rect(1px, 1px, 1px, 1px);height: 1px;margin: -1px;overflow: hidden;padding: 0;position: absolute;width: 1px;}#sk-container-id-62 div.sk-estimator {font-family: monospace;background-color: #f0f8ff;border: 1px dotted black;border-radius: 0.25em;box-sizing: border-box;margin-bottom: 0.5em;}#sk-container-id-62 div.sk-estimator:hover {background-color: #d4ebff;}#sk-container-id-62 div.sk-parallel-item::after {content: \"\";width: 100%;border-bottom: 1px solid gray;flex-grow: 1;}#sk-container-id-62 div.sk-label:hover label.sk-toggleable__label {background-color: #d4ebff;}#sk-container-id-62 div.sk-serial::before {content: \"\";position: absolute;border-left: 1px solid gray;box-sizing: border-box;top: 0;bottom: 0;left: 50%;z-index: 0;}#sk-container-id-62 div.sk-serial {display: flex;flex-direction: column;align-items: center;background-color: white;padding-right: 0.2em;padding-left: 0.2em;position: relative;}#sk-container-id-62 div.sk-item {position: relative;z-index: 1;}#sk-container-id-62 div.sk-parallel {display: flex;align-items: stretch;justify-content: center;background-color: white;position: relative;}#sk-container-id-62 div.sk-item::before, #sk-container-id-62 div.sk-parallel-item::before {content: \"\";position: absolute;border-left: 1px solid gray;box-sizing: border-box;top: 0;bottom: 0;left: 50%;z-index: -1;}#sk-container-id-62 div.sk-parallel-item {display: flex;flex-direction: column;z-index: 1;position: relative;background-color: white;}#sk-container-id-62 div.sk-parallel-item:first-child::after {align-self: flex-end;width: 50%;}#sk-container-id-62 div.sk-parallel-item:last-child::after {align-self: flex-start;width: 50%;}#sk-container-id-62 div.sk-parallel-item:only-child::after {width: 0;}#sk-container-id-62 div.sk-dashed-wrapped {border: 1px dashed gray;margin: 0 0.4em 0.5em 0.4em;box-sizing: border-box;padding-bottom: 0.4em;background-color: white;}#sk-container-id-62 div.sk-label label {font-family: monospace;font-weight: bold;display: inline-block;line-height: 1.2em;}#sk-container-id-62 div.sk-label-container {text-align: center;}#sk-container-id-62 div.sk-container {/* jupyter's `normalize.less` sets `[hidden] { display: none; }` but bootstrap.min.css set `[hidden] { display: none !important; }` so we also need the `!important` here to be able to override the default hidden behavior on the sphinx rendered scikit-learn.org. See: https://github.com/scikit-learn/scikit-learn/issues/21755 */display: inline-block !important;position: relative;}#sk-container-id-62 div.sk-text-repr-fallback {display: none;}</style><div id=\"sk-container-id-62\" class=\"sk-top-container\"><div class=\"sk-text-repr-fallback\"><pre>LogisticRegression()</pre><b>In a Jupyter environment, please rerun this cell to show the HTML representation or trust the notebook. <br />On GitHub, the HTML representation is unable to render, please try loading this page with nbviewer.org.</b></div><div class=\"sk-container\" hidden><div class=\"sk-item\"><div class=\"sk-estimator sk-toggleable\"><input class=\"sk-toggleable__control sk-hidden--visually\" id=\"sk-estimator-id-62\" type=\"checkbox\" checked><label for=\"sk-estimator-id-62\" class=\"sk-toggleable__label sk-toggleable__label-arrow\">LogisticRegression</label><div class=\"sk-toggleable__content\"><pre>LogisticRegression()</pre></div></div></div></div></div>"
     },
     "execution_count": 1087,
     "metadata": {},
     "output_type": "execute_result"
    }
   ],
   "source": [
    "# Fit the object\n",
    "logit.fit(X_train, y_train)"
   ],
   "metadata": {
    "collapsed": false,
    "ExecuteTime": {
     "start_time": "2023-04-24T13:40:43.228604Z",
     "end_time": "2023-04-24T13:40:43.929933Z"
    }
   }
  },
  {
   "cell_type": "code",
   "execution_count": 1088,
   "outputs": [
    {
     "name": "stdout",
     "output_type": "stream",
     "text": [
      "Coefficient: \n",
      " [[-9.38724279e-01 -2.43475253e-02 -2.54982948e-04 -2.54736677e+00\n",
      "   9.79268355e-01  4.88005532e-01 -1.01387351e+00 -2.58471397e-01\n",
      "  -3.21196584e-01 -5.80873483e-01  6.86577834e-01  4.82431534e-01\n",
      "  -2.72090250e-02 -1.90107364e-01 -8.01529976e-02  0.00000000e+00\n",
      "   5.57971308e-01 -1.17641756e-01  7.36234715e-01  8.04394317e-02\n",
      "   9.47996080e-01  1.47021600e+00  5.91621173e-01  2.36280228e-01\n",
      "   8.11989111e-01]]\n",
      "Intercept: \n",
      " [2.97909669]\n"
     ]
    }
   ],
   "source": [
    "# Feacture Importance\n",
    "print('Coefficient: \\n', logit.coef_)\n",
    "print('Intercept: \\n', logit.intercept_)\n"
   ],
   "metadata": {
    "collapsed": false,
    "ExecuteTime": {
     "start_time": "2023-04-24T13:40:43.297630Z",
     "end_time": "2023-04-24T13:40:43.930229Z"
    }
   }
  },
  {
   "cell_type": "code",
   "execution_count": 1089,
   "outputs": [],
   "source": [
    "# Make predictions\n",
    "y_pred = logit.predict(X_train)"
   ],
   "metadata": {
    "collapsed": false,
    "ExecuteTime": {
     "start_time": "2023-04-24T13:40:43.311694Z",
     "end_time": "2023-04-24T13:40:43.930252Z"
    }
   }
  },
  {
   "cell_type": "code",
   "execution_count": 1090,
   "outputs": [],
   "source": [
    "# Estimate probability\n",
    "y_pred_proba = logit.predict_proba(X_train)\n"
   ],
   "metadata": {
    "collapsed": false,
    "ExecuteTime": {
     "start_time": "2023-04-24T13:40:43.316084Z",
     "end_time": "2023-04-24T13:40:43.930271Z"
    }
   }
  },
  {
   "cell_type": "code",
   "execution_count": 1091,
   "outputs": [
    {
     "name": "stdout",
     "output_type": "stream",
     "text": [
      "Accuracy of Logistic Regression classifier on training set: 0.84\n"
     ]
    }
   ],
   "source": [
    "# Accuracy\n",
    "print('Accuracy of Logistic Regression classifier on training set: {:.2f}'\n",
    "     .format(logit.score(X_train, y_train)))"
   ],
   "metadata": {
    "collapsed": false,
    "ExecuteTime": {
     "start_time": "2023-04-24T13:40:43.329366Z",
     "end_time": "2023-04-24T13:40:43.930386Z"
    }
   }
  },
  {
   "cell_type": "code",
   "execution_count": 1092,
   "outputs": [
    {
     "name": "stdout",
     "output_type": "stream",
     "text": [
      "[[291  38]\n",
      " [ 50 155]]\n"
     ]
    }
   ],
   "source": [
    "# Confusion Matrix\n",
    "from sklearn.metrics import confusion_matrix\n",
    "confusion_matrix = confusion_matrix(y_train, y_pred)\n",
    "print(confusion_matrix)"
   ],
   "metadata": {
    "collapsed": false,
    "ExecuteTime": {
     "start_time": "2023-04-24T13:40:43.344308Z",
     "end_time": "2023-04-24T13:40:43.930425Z"
    }
   }
  },
  {
   "cell_type": "code",
   "execution_count": 1093,
   "outputs": [
    {
     "name": "stdout",
     "output_type": "stream",
     "text": [
      "Accuracy of Logistic Regression classifier on validation set: 0.77\n"
     ]
    }
   ],
   "source": [
    "# validate\n",
    "# Accuracy\n",
    "y_pred = logit.predict(X_validate)\n",
    "print('Accuracy of Logistic Regression classifier on validation set: {:.2f}'\n",
    "     .format(logit.score(X_validate, y_validate)))"
   ],
   "metadata": {
    "collapsed": false,
    "ExecuteTime": {
     "start_time": "2023-04-24T13:40:43.352324Z",
     "end_time": "2023-04-24T13:40:43.930458Z"
    }
   }
  },
  {
   "cell_type": "code",
   "execution_count": 1094,
   "outputs": [
    {
     "name": "stdout",
     "output_type": "stream",
     "text": [
      "[[90 20]\n",
      " [21 47]]\n"
     ]
    }
   ],
   "source": [
    "# Confusion Matrix\n",
    "from sklearn.metrics import confusion_matrix\n",
    "confusion_matrix = confusion_matrix(y_validate, y_pred)\n",
    "print(confusion_matrix)\n"
   ],
   "metadata": {
    "collapsed": false,
    "ExecuteTime": {
     "start_time": "2023-04-24T13:40:43.359815Z",
     "end_time": "2023-04-24T13:40:43.930502Z"
    }
   }
  },
  {
   "cell_type": "code",
   "execution_count": 1095,
   "outputs": [
    {
     "name": "stdout",
     "output_type": "stream",
     "text": [
      "              precision    recall  f1-score   support\n",
      "\n",
      "           0       0.81      0.82      0.81       110\n",
      "           1       0.70      0.69      0.70        68\n",
      "\n",
      "    accuracy                           0.77       178\n",
      "   macro avg       0.76      0.75      0.76       178\n",
      "weighted avg       0.77      0.77      0.77       178\n",
      "\n"
     ]
    }
   ],
   "source": [
    "# Classification Report\n",
    "from sklearn.metrics import classification_report\n",
    "print(classification_report(y_validate, y_pred))\n"
   ],
   "metadata": {
    "collapsed": false,
    "ExecuteTime": {
     "start_time": "2023-04-24T13:40:43.362528Z",
     "end_time": "2023-04-24T13:40:43.930560Z"
    }
   }
  },
  {
   "cell_type": "code",
   "execution_count": 1096,
   "outputs": [
    {
     "name": "stdout",
     "output_type": "stream",
     "text": [
      "Accuracy of Logistic Regression classifier on test set: 0.81\n"
     ]
    }
   ],
   "source": [],
   "metadata": {
    "collapsed": false,
    "ExecuteTime": {
     "start_time": "2023-04-24T13:41:36.272677Z",
     "end_time": "2023-04-24T13:41:36.280483Z"
    }
   }
  },
  {
   "cell_type": "code",
   "execution_count": 1095,
   "outputs": [],
   "source": [],
   "metadata": {
    "collapsed": false,
    "ExecuteTime": {
     "start_time": "2023-04-24T13:40:43.372288Z",
     "end_time": "2023-04-24T13:40:43.930579Z"
    }
   }
  },
  {
   "cell_type": "markdown",
   "source": [
    "# <span style=\"color:blue\">Current Model Takeaways</span>\n",
    "####"
   ],
   "metadata": {
    "collapsed": false
   }
  },
  {
   "cell_type": "code",
   "execution_count": 1095,
   "outputs": [],
   "source": [],
   "metadata": {
    "collapsed": false,
    "ExecuteTime": {
     "start_time": "2023-04-24T13:40:43.375801Z",
     "end_time": "2023-04-24T13:40:43.930609Z"
    }
   }
  }
 ],
 "metadata": {
  "kernelspec": {
   "display_name": "Python 3",
   "language": "python",
   "name": "python3"
  },
  "language_info": {
   "codemirror_mode": {
    "name": "ipython",
    "version": 2
   },
   "file_extension": ".py",
   "mimetype": "text/x-python",
   "name": "python",
   "nbconvert_exporter": "python",
   "pygments_lexer": "ipython2",
   "version": "2.7.6"
  }
 },
 "nbformat": 4,
 "nbformat_minor": 0
}
